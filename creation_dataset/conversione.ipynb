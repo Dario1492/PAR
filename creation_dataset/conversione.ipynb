{
 "cells": [
  {
   "cell_type": "code",
   "outputs": [],
   "source": [
    "import pandas as pd\n",
    "import numpy as np\n",
    "import scipy\n"
   ],
   "metadata": {
    "ExecuteTime": {
     "end_time": "2024-01-28T18:26:41.113487692Z",
     "start_time": "2024-01-28T18:26:40.886881479Z"
    }
   },
   "execution_count": 1
  },
  {
   "cell_type": "code",
   "outputs": [],
   "source": [
    "df = pd.read_csv('training_set.csv', header=None, names=['filename', 'upper', 'lower', 'gender', 'bag', 'hat'])"
   ],
   "metadata": {
    "collapsed": false,
    "ExecuteTime": {
     "end_time": "2024-01-28T18:26:41.456472782Z",
     "start_time": "2024-01-28T18:26:41.315229690Z"
    }
   },
   "execution_count": 2
  },
  {
   "cell_type": "code",
   "outputs": [
    {
     "data": {
      "text/plain": "93082"
     },
     "execution_count": 3,
     "metadata": {},
     "output_type": "execute_result"
    }
   ],
   "source": [
    "len(df.index)"
   ],
   "metadata": {
    "collapsed": false,
    "ExecuteTime": {
     "end_time": "2024-01-28T18:26:41.781362098Z",
     "start_time": "2024-01-28T18:26:41.775649603Z"
    }
   },
   "execution_count": 3
  },
  {
   "cell_type": "code",
   "outputs": [],
   "source": [
    "df.replace(-1, pd.NA, inplace=True)"
   ],
   "metadata": {
    "collapsed": false,
    "ExecuteTime": {
     "end_time": "2024-01-28T18:26:42.312288577Z",
     "start_time": "2024-01-28T18:26:42.294909408Z"
    }
   },
   "execution_count": 4
  },
  {
   "cell_type": "code",
   "outputs": [
    {
     "data": {
      "text/plain": "                 filename upper lower gender   bag  hat\n0       VideoX_1_59_1.jpg     1     4      0     0  NaN\n1       VideoX_1_64_1.jpg     1     4      0     0  NaN\n2       VideoX_1_82_1.jpg     1     4      0     0  NaN\n3      VideoX_1_834_2.jpg  <NA>  <NA>   <NA>  <NA>  NaN\n4       VideoX_1_88_1.jpg     1     4      0     0  NaN\n...                   ...   ...   ...    ...   ...  ...\n93077  internet_913_2.jpg   NaN   NaN    NaN     0  NaN\n93078   Video3_1262_1.jpg   NaN   NaN    NaN     0  NaN\n93079  internet_962_1.jpg   NaN   NaN    NaN     0  NaN\n93080  internet_967_1.jpg   NaN   NaN    NaN     0  NaN\n93081  internet_950_3.jpg   NaN   NaN    NaN     0  NaN\n\n[93082 rows x 6 columns]",
      "text/html": "<div>\n<style scoped>\n    .dataframe tbody tr th:only-of-type {\n        vertical-align: middle;\n    }\n\n    .dataframe tbody tr th {\n        vertical-align: top;\n    }\n\n    .dataframe thead th {\n        text-align: right;\n    }\n</style>\n<table border=\"1\" class=\"dataframe\">\n  <thead>\n    <tr style=\"text-align: right;\">\n      <th></th>\n      <th>filename</th>\n      <th>upper</th>\n      <th>lower</th>\n      <th>gender</th>\n      <th>bag</th>\n      <th>hat</th>\n    </tr>\n  </thead>\n  <tbody>\n    <tr>\n      <th>0</th>\n      <td>VideoX_1_59_1.jpg</td>\n      <td>1</td>\n      <td>4</td>\n      <td>0</td>\n      <td>0</td>\n      <td>NaN</td>\n    </tr>\n    <tr>\n      <th>1</th>\n      <td>VideoX_1_64_1.jpg</td>\n      <td>1</td>\n      <td>4</td>\n      <td>0</td>\n      <td>0</td>\n      <td>NaN</td>\n    </tr>\n    <tr>\n      <th>2</th>\n      <td>VideoX_1_82_1.jpg</td>\n      <td>1</td>\n      <td>4</td>\n      <td>0</td>\n      <td>0</td>\n      <td>NaN</td>\n    </tr>\n    <tr>\n      <th>3</th>\n      <td>VideoX_1_834_2.jpg</td>\n      <td>&lt;NA&gt;</td>\n      <td>&lt;NA&gt;</td>\n      <td>&lt;NA&gt;</td>\n      <td>&lt;NA&gt;</td>\n      <td>NaN</td>\n    </tr>\n    <tr>\n      <th>4</th>\n      <td>VideoX_1_88_1.jpg</td>\n      <td>1</td>\n      <td>4</td>\n      <td>0</td>\n      <td>0</td>\n      <td>NaN</td>\n    </tr>\n    <tr>\n      <th>...</th>\n      <td>...</td>\n      <td>...</td>\n      <td>...</td>\n      <td>...</td>\n      <td>...</td>\n      <td>...</td>\n    </tr>\n    <tr>\n      <th>93077</th>\n      <td>internet_913_2.jpg</td>\n      <td>NaN</td>\n      <td>NaN</td>\n      <td>NaN</td>\n      <td>0</td>\n      <td>NaN</td>\n    </tr>\n    <tr>\n      <th>93078</th>\n      <td>Video3_1262_1.jpg</td>\n      <td>NaN</td>\n      <td>NaN</td>\n      <td>NaN</td>\n      <td>0</td>\n      <td>NaN</td>\n    </tr>\n    <tr>\n      <th>93079</th>\n      <td>internet_962_1.jpg</td>\n      <td>NaN</td>\n      <td>NaN</td>\n      <td>NaN</td>\n      <td>0</td>\n      <td>NaN</td>\n    </tr>\n    <tr>\n      <th>93080</th>\n      <td>internet_967_1.jpg</td>\n      <td>NaN</td>\n      <td>NaN</td>\n      <td>NaN</td>\n      <td>0</td>\n      <td>NaN</td>\n    </tr>\n    <tr>\n      <th>93081</th>\n      <td>internet_950_3.jpg</td>\n      <td>NaN</td>\n      <td>NaN</td>\n      <td>NaN</td>\n      <td>0</td>\n      <td>NaN</td>\n    </tr>\n  </tbody>\n</table>\n<p>93082 rows × 6 columns</p>\n</div>"
     },
     "execution_count": 5,
     "metadata": {},
     "output_type": "execute_result"
    }
   ],
   "source": [
    "df"
   ],
   "metadata": {
    "collapsed": false,
    "ExecuteTime": {
     "end_time": "2024-01-28T18:26:42.891235303Z",
     "start_time": "2024-01-28T18:26:42.872396812Z"
    }
   },
   "execution_count": 5
  },
  {
   "cell_type": "code",
   "execution_count": 6,
   "metadata": {
    "ExecuteTime": {
     "end_time": "2024-01-28T18:26:43.456478506Z",
     "start_time": "2024-01-28T18:26:43.408085511Z"
    }
   },
   "outputs": [
    {
     "name": "stdout",
     "output_type": "stream",
     "text": [
      "values null filename        0\n",
      "upper       57235\n",
      "lower       32323\n",
      "gender       7670\n",
      "bag         27398\n",
      "hat         14811\n",
      "dtype: int64\n"
     ]
    }
   ],
   "source": [
    "print(\"values null\", df.isnull().sum())"
   ]
  },
  {
   "cell_type": "code",
   "outputs": [],
   "source": [
    "df.replace(pd.NA, -1, inplace=True)"
   ],
   "metadata": {
    "collapsed": false,
    "ExecuteTime": {
     "end_time": "2024-01-28T18:26:44.182922864Z",
     "start_time": "2024-01-28T18:26:44.096134543Z"
    }
   },
   "execution_count": 7
  },
  {
   "cell_type": "code",
   "outputs": [
    {
     "data": {
      "text/plain": "             filename  upper  lower  gender  bag  hat\n3  VideoX_1_834_2.jpg     -1     -1      -1   -1   -1",
      "text/html": "<div>\n<style scoped>\n    .dataframe tbody tr th:only-of-type {\n        vertical-align: middle;\n    }\n\n    .dataframe tbody tr th {\n        vertical-align: top;\n    }\n\n    .dataframe thead th {\n        text-align: right;\n    }\n</style>\n<table border=\"1\" class=\"dataframe\">\n  <thead>\n    <tr style=\"text-align: right;\">\n      <th></th>\n      <th>filename</th>\n      <th>upper</th>\n      <th>lower</th>\n      <th>gender</th>\n      <th>bag</th>\n      <th>hat</th>\n    </tr>\n  </thead>\n  <tbody>\n    <tr>\n      <th>3</th>\n      <td>VideoX_1_834_2.jpg</td>\n      <td>-1</td>\n      <td>-1</td>\n      <td>-1</td>\n      <td>-1</td>\n      <td>-1</td>\n    </tr>\n  </tbody>\n</table>\n</div>"
     },
     "execution_count": 8,
     "metadata": {},
     "output_type": "execute_result"
    }
   ],
   "source": [
    "df.loc[(df['upper'] == -1) & (df['lower'] == -1) & (df['gender'] == -1) & (df['bag'] == -1) & (df['hat'] == -1)]"
   ],
   "metadata": {
    "collapsed": false,
    "ExecuteTime": {
     "end_time": "2024-01-28T18:26:44.898914372Z",
     "start_time": "2024-01-28T18:26:44.882472850Z"
    }
   },
   "execution_count": 8
  },
  {
   "cell_type": "code",
   "outputs": [
    {
     "data": {
      "text/plain": "                 filename  upper  lower  gender  bag  hat\n0       VideoX_1_59_1.jpg      1      4       0    0   -1\n1       VideoX_1_64_1.jpg      1      4       0    0   -1\n2       VideoX_1_82_1.jpg      1      4       0    0   -1\n3      VideoX_1_834_2.jpg     -1     -1      -1   -1   -1\n4       VideoX_1_88_1.jpg      1      4       0    0   -1\n...                   ...    ...    ...     ...  ...  ...\n93077  internet_913_2.jpg     -1     -1      -1    0   -1\n93078   Video3_1262_1.jpg     -1     -1      -1    0   -1\n93079  internet_962_1.jpg     -1     -1      -1    0   -1\n93080  internet_967_1.jpg     -1     -1      -1    0   -1\n93081  internet_950_3.jpg     -1     -1      -1    0   -1\n\n[93082 rows x 6 columns]",
      "text/html": "<div>\n<style scoped>\n    .dataframe tbody tr th:only-of-type {\n        vertical-align: middle;\n    }\n\n    .dataframe tbody tr th {\n        vertical-align: top;\n    }\n\n    .dataframe thead th {\n        text-align: right;\n    }\n</style>\n<table border=\"1\" class=\"dataframe\">\n  <thead>\n    <tr style=\"text-align: right;\">\n      <th></th>\n      <th>filename</th>\n      <th>upper</th>\n      <th>lower</th>\n      <th>gender</th>\n      <th>bag</th>\n      <th>hat</th>\n    </tr>\n  </thead>\n  <tbody>\n    <tr>\n      <th>0</th>\n      <td>VideoX_1_59_1.jpg</td>\n      <td>1</td>\n      <td>4</td>\n      <td>0</td>\n      <td>0</td>\n      <td>-1</td>\n    </tr>\n    <tr>\n      <th>1</th>\n      <td>VideoX_1_64_1.jpg</td>\n      <td>1</td>\n      <td>4</td>\n      <td>0</td>\n      <td>0</td>\n      <td>-1</td>\n    </tr>\n    <tr>\n      <th>2</th>\n      <td>VideoX_1_82_1.jpg</td>\n      <td>1</td>\n      <td>4</td>\n      <td>0</td>\n      <td>0</td>\n      <td>-1</td>\n    </tr>\n    <tr>\n      <th>3</th>\n      <td>VideoX_1_834_2.jpg</td>\n      <td>-1</td>\n      <td>-1</td>\n      <td>-1</td>\n      <td>-1</td>\n      <td>-1</td>\n    </tr>\n    <tr>\n      <th>4</th>\n      <td>VideoX_1_88_1.jpg</td>\n      <td>1</td>\n      <td>4</td>\n      <td>0</td>\n      <td>0</td>\n      <td>-1</td>\n    </tr>\n    <tr>\n      <th>...</th>\n      <td>...</td>\n      <td>...</td>\n      <td>...</td>\n      <td>...</td>\n      <td>...</td>\n      <td>...</td>\n    </tr>\n    <tr>\n      <th>93077</th>\n      <td>internet_913_2.jpg</td>\n      <td>-1</td>\n      <td>-1</td>\n      <td>-1</td>\n      <td>0</td>\n      <td>-1</td>\n    </tr>\n    <tr>\n      <th>93078</th>\n      <td>Video3_1262_1.jpg</td>\n      <td>-1</td>\n      <td>-1</td>\n      <td>-1</td>\n      <td>0</td>\n      <td>-1</td>\n    </tr>\n    <tr>\n      <th>93079</th>\n      <td>internet_962_1.jpg</td>\n      <td>-1</td>\n      <td>-1</td>\n      <td>-1</td>\n      <td>0</td>\n      <td>-1</td>\n    </tr>\n    <tr>\n      <th>93080</th>\n      <td>internet_967_1.jpg</td>\n      <td>-1</td>\n      <td>-1</td>\n      <td>-1</td>\n      <td>0</td>\n      <td>-1</td>\n    </tr>\n    <tr>\n      <th>93081</th>\n      <td>internet_950_3.jpg</td>\n      <td>-1</td>\n      <td>-1</td>\n      <td>-1</td>\n      <td>0</td>\n      <td>-1</td>\n    </tr>\n  </tbody>\n</table>\n<p>93082 rows × 6 columns</p>\n</div>"
     },
     "execution_count": 9,
     "metadata": {},
     "output_type": "execute_result"
    }
   ],
   "source": [
    "df"
   ],
   "metadata": {
    "collapsed": false,
    "ExecuteTime": {
     "end_time": "2024-01-28T18:26:45.506838196Z",
     "start_time": "2024-01-28T18:26:45.476433311Z"
    }
   },
   "execution_count": 9
  },
  {
   "cell_type": "code",
   "outputs": [],
   "source": [
    "df['upper'] = df['upper'].astype('category')\n",
    "df['lower'] = df['lower'].astype('category')\n",
    "df['gender'] = df['gender'].astype('category')"
   ],
   "metadata": {
    "collapsed": false,
    "ExecuteTime": {
     "end_time": "2024-01-28T18:26:46.161622617Z",
     "start_time": "2024-01-28T18:26:46.137072570Z"
    }
   },
   "execution_count": 10
  },
  {
   "cell_type": "code",
   "outputs": [],
   "source": [
    "one_hot_encoded_color = pd.get_dummies(df, columns=['upper', 'lower', 'gender']) #, dummy_na=True"
   ],
   "metadata": {
    "collapsed": false,
    "ExecuteTime": {
     "end_time": "2024-01-28T18:26:48.444284824Z",
     "start_time": "2024-01-28T18:26:48.425658355Z"
    }
   },
   "execution_count": 11
  },
  {
   "cell_type": "code",
   "outputs": [
    {
     "data": {
      "text/plain": "                 filename  bag  hat  upper_-1  upper_1  upper_2  upper_3  \\\n0       VideoX_1_59_1.jpg    0   -1     False     True    False    False   \n1       VideoX_1_64_1.jpg    0   -1     False     True    False    False   \n2       VideoX_1_82_1.jpg    0   -1     False     True    False    False   \n3      VideoX_1_834_2.jpg   -1   -1      True    False    False    False   \n4       VideoX_1_88_1.jpg    0   -1     False     True    False    False   \n...                   ...  ...  ...       ...      ...      ...      ...   \n93077  internet_913_2.jpg    0   -1      True    False    False    False   \n93078   Video3_1262_1.jpg    0   -1      True    False    False    False   \n93079  internet_962_1.jpg    0   -1      True    False    False    False   \n93080  internet_967_1.jpg    0   -1      True    False    False    False   \n93081  internet_950_3.jpg    0   -1      True    False    False    False   \n\n       upper_4  upper_5  upper_6  ...  lower_5  lower_6  lower_7  lower_8  \\\n0        False    False    False  ...    False    False    False    False   \n1        False    False    False  ...    False    False    False    False   \n2        False    False    False  ...    False    False    False    False   \n3        False    False    False  ...    False    False    False    False   \n4        False    False    False  ...    False    False    False    False   \n...        ...      ...      ...  ...      ...      ...      ...      ...   \n93077    False    False    False  ...    False    False    False    False   \n93078    False    False    False  ...    False    False    False    False   \n93079    False    False    False  ...    False    False    False    False   \n93080    False    False    False  ...    False    False    False    False   \n93081    False    False    False  ...    False    False    False    False   \n\n       lower_9  lower_10  lower_11  gender_-1  gender_0  gender_1  \n0        False     False     False      False      True     False  \n1        False     False     False      False      True     False  \n2        False     False     False      False      True     False  \n3        False     False     False       True     False     False  \n4        False     False     False      False      True     False  \n...        ...       ...       ...        ...       ...       ...  \n93077    False     False     False       True     False     False  \n93078    False     False     False       True     False     False  \n93079    False     False     False       True     False     False  \n93080    False     False     False       True     False     False  \n93081    False     False     False       True     False     False  \n\n[93082 rows x 30 columns]",
      "text/html": "<div>\n<style scoped>\n    .dataframe tbody tr th:only-of-type {\n        vertical-align: middle;\n    }\n\n    .dataframe tbody tr th {\n        vertical-align: top;\n    }\n\n    .dataframe thead th {\n        text-align: right;\n    }\n</style>\n<table border=\"1\" class=\"dataframe\">\n  <thead>\n    <tr style=\"text-align: right;\">\n      <th></th>\n      <th>filename</th>\n      <th>bag</th>\n      <th>hat</th>\n      <th>upper_-1</th>\n      <th>upper_1</th>\n      <th>upper_2</th>\n      <th>upper_3</th>\n      <th>upper_4</th>\n      <th>upper_5</th>\n      <th>upper_6</th>\n      <th>...</th>\n      <th>lower_5</th>\n      <th>lower_6</th>\n      <th>lower_7</th>\n      <th>lower_8</th>\n      <th>lower_9</th>\n      <th>lower_10</th>\n      <th>lower_11</th>\n      <th>gender_-1</th>\n      <th>gender_0</th>\n      <th>gender_1</th>\n    </tr>\n  </thead>\n  <tbody>\n    <tr>\n      <th>0</th>\n      <td>VideoX_1_59_1.jpg</td>\n      <td>0</td>\n      <td>-1</td>\n      <td>False</td>\n      <td>True</td>\n      <td>False</td>\n      <td>False</td>\n      <td>False</td>\n      <td>False</td>\n      <td>False</td>\n      <td>...</td>\n      <td>False</td>\n      <td>False</td>\n      <td>False</td>\n      <td>False</td>\n      <td>False</td>\n      <td>False</td>\n      <td>False</td>\n      <td>False</td>\n      <td>True</td>\n      <td>False</td>\n    </tr>\n    <tr>\n      <th>1</th>\n      <td>VideoX_1_64_1.jpg</td>\n      <td>0</td>\n      <td>-1</td>\n      <td>False</td>\n      <td>True</td>\n      <td>False</td>\n      <td>False</td>\n      <td>False</td>\n      <td>False</td>\n      <td>False</td>\n      <td>...</td>\n      <td>False</td>\n      <td>False</td>\n      <td>False</td>\n      <td>False</td>\n      <td>False</td>\n      <td>False</td>\n      <td>False</td>\n      <td>False</td>\n      <td>True</td>\n      <td>False</td>\n    </tr>\n    <tr>\n      <th>2</th>\n      <td>VideoX_1_82_1.jpg</td>\n      <td>0</td>\n      <td>-1</td>\n      <td>False</td>\n      <td>True</td>\n      <td>False</td>\n      <td>False</td>\n      <td>False</td>\n      <td>False</td>\n      <td>False</td>\n      <td>...</td>\n      <td>False</td>\n      <td>False</td>\n      <td>False</td>\n      <td>False</td>\n      <td>False</td>\n      <td>False</td>\n      <td>False</td>\n      <td>False</td>\n      <td>True</td>\n      <td>False</td>\n    </tr>\n    <tr>\n      <th>3</th>\n      <td>VideoX_1_834_2.jpg</td>\n      <td>-1</td>\n      <td>-1</td>\n      <td>True</td>\n      <td>False</td>\n      <td>False</td>\n      <td>False</td>\n      <td>False</td>\n      <td>False</td>\n      <td>False</td>\n      <td>...</td>\n      <td>False</td>\n      <td>False</td>\n      <td>False</td>\n      <td>False</td>\n      <td>False</td>\n      <td>False</td>\n      <td>False</td>\n      <td>True</td>\n      <td>False</td>\n      <td>False</td>\n    </tr>\n    <tr>\n      <th>4</th>\n      <td>VideoX_1_88_1.jpg</td>\n      <td>0</td>\n      <td>-1</td>\n      <td>False</td>\n      <td>True</td>\n      <td>False</td>\n      <td>False</td>\n      <td>False</td>\n      <td>False</td>\n      <td>False</td>\n      <td>...</td>\n      <td>False</td>\n      <td>False</td>\n      <td>False</td>\n      <td>False</td>\n      <td>False</td>\n      <td>False</td>\n      <td>False</td>\n      <td>False</td>\n      <td>True</td>\n      <td>False</td>\n    </tr>\n    <tr>\n      <th>...</th>\n      <td>...</td>\n      <td>...</td>\n      <td>...</td>\n      <td>...</td>\n      <td>...</td>\n      <td>...</td>\n      <td>...</td>\n      <td>...</td>\n      <td>...</td>\n      <td>...</td>\n      <td>...</td>\n      <td>...</td>\n      <td>...</td>\n      <td>...</td>\n      <td>...</td>\n      <td>...</td>\n      <td>...</td>\n      <td>...</td>\n      <td>...</td>\n      <td>...</td>\n      <td>...</td>\n    </tr>\n    <tr>\n      <th>93077</th>\n      <td>internet_913_2.jpg</td>\n      <td>0</td>\n      <td>-1</td>\n      <td>True</td>\n      <td>False</td>\n      <td>False</td>\n      <td>False</td>\n      <td>False</td>\n      <td>False</td>\n      <td>False</td>\n      <td>...</td>\n      <td>False</td>\n      <td>False</td>\n      <td>False</td>\n      <td>False</td>\n      <td>False</td>\n      <td>False</td>\n      <td>False</td>\n      <td>True</td>\n      <td>False</td>\n      <td>False</td>\n    </tr>\n    <tr>\n      <th>93078</th>\n      <td>Video3_1262_1.jpg</td>\n      <td>0</td>\n      <td>-1</td>\n      <td>True</td>\n      <td>False</td>\n      <td>False</td>\n      <td>False</td>\n      <td>False</td>\n      <td>False</td>\n      <td>False</td>\n      <td>...</td>\n      <td>False</td>\n      <td>False</td>\n      <td>False</td>\n      <td>False</td>\n      <td>False</td>\n      <td>False</td>\n      <td>False</td>\n      <td>True</td>\n      <td>False</td>\n      <td>False</td>\n    </tr>\n    <tr>\n      <th>93079</th>\n      <td>internet_962_1.jpg</td>\n      <td>0</td>\n      <td>-1</td>\n      <td>True</td>\n      <td>False</td>\n      <td>False</td>\n      <td>False</td>\n      <td>False</td>\n      <td>False</td>\n      <td>False</td>\n      <td>...</td>\n      <td>False</td>\n      <td>False</td>\n      <td>False</td>\n      <td>False</td>\n      <td>False</td>\n      <td>False</td>\n      <td>False</td>\n      <td>True</td>\n      <td>False</td>\n      <td>False</td>\n    </tr>\n    <tr>\n      <th>93080</th>\n      <td>internet_967_1.jpg</td>\n      <td>0</td>\n      <td>-1</td>\n      <td>True</td>\n      <td>False</td>\n      <td>False</td>\n      <td>False</td>\n      <td>False</td>\n      <td>False</td>\n      <td>False</td>\n      <td>...</td>\n      <td>False</td>\n      <td>False</td>\n      <td>False</td>\n      <td>False</td>\n      <td>False</td>\n      <td>False</td>\n      <td>False</td>\n      <td>True</td>\n      <td>False</td>\n      <td>False</td>\n    </tr>\n    <tr>\n      <th>93081</th>\n      <td>internet_950_3.jpg</td>\n      <td>0</td>\n      <td>-1</td>\n      <td>True</td>\n      <td>False</td>\n      <td>False</td>\n      <td>False</td>\n      <td>False</td>\n      <td>False</td>\n      <td>False</td>\n      <td>...</td>\n      <td>False</td>\n      <td>False</td>\n      <td>False</td>\n      <td>False</td>\n      <td>False</td>\n      <td>False</td>\n      <td>False</td>\n      <td>True</td>\n      <td>False</td>\n      <td>False</td>\n    </tr>\n  </tbody>\n</table>\n<p>93082 rows × 30 columns</p>\n</div>"
     },
     "execution_count": 12,
     "metadata": {},
     "output_type": "execute_result"
    }
   ],
   "source": [
    "one_hot_encoded_color"
   ],
   "metadata": {
    "collapsed": false,
    "ExecuteTime": {
     "end_time": "2024-01-28T18:26:49.401314190Z",
     "start_time": "2024-01-28T18:26:49.365940430Z"
    }
   },
   "execution_count": 12
  },
  {
   "cell_type": "code",
   "outputs": [],
   "source": [
    "    "
   ],
   "metadata": {
    "collapsed": false,
    "ExecuteTime": {
     "end_time": "2024-01-28T18:26:50.467507241Z",
     "start_time": "2024-01-28T18:26:50.450867570Z"
    }
   },
   "execution_count": 12
  },
  {
   "cell_type": "code",
   "outputs": [],
   "source": [
    "df_copy = one_hot_encoded_color.copy()"
   ],
   "metadata": {
    "collapsed": false,
    "ExecuteTime": {
     "end_time": "2024-01-28T18:26:51.069399194Z",
     "start_time": "2024-01-28T18:26:51.039105634Z"
    }
   },
   "execution_count": 13
  },
  {
   "cell_type": "code",
   "outputs": [
    {
     "data": {
      "text/plain": "             filename  bag  hat  upper_-1  upper_1  upper_2  upper_3  upper_4  \\\n0   VideoX_1_59_1.jpg    0   -1     False     True    False    False    False   \n1   VideoX_1_64_1.jpg    0   -1     False     True    False    False    False   \n2   VideoX_1_82_1.jpg    0   -1     False     True    False    False    False   \n3  VideoX_1_834_2.jpg   -1   -1      True    False    False    False    False   \n4   VideoX_1_88_1.jpg    0   -1     False     True    False    False    False   \n\n   upper_5  upper_6  ...  lower_5  lower_6  lower_7  lower_8  lower_9  \\\n0    False    False  ...    False    False    False    False    False   \n1    False    False  ...    False    False    False    False    False   \n2    False    False  ...    False    False    False    False    False   \n3    False    False  ...    False    False    False    False    False   \n4    False    False  ...    False    False    False    False    False   \n\n   lower_10  lower_11  gender_-1  gender_0  gender_1  \n0     False     False      False      True     False  \n1     False     False      False      True     False  \n2     False     False      False      True     False  \n3     False     False       True     False     False  \n4     False     False      False      True     False  \n\n[5 rows x 30 columns]",
      "text/html": "<div>\n<style scoped>\n    .dataframe tbody tr th:only-of-type {\n        vertical-align: middle;\n    }\n\n    .dataframe tbody tr th {\n        vertical-align: top;\n    }\n\n    .dataframe thead th {\n        text-align: right;\n    }\n</style>\n<table border=\"1\" class=\"dataframe\">\n  <thead>\n    <tr style=\"text-align: right;\">\n      <th></th>\n      <th>filename</th>\n      <th>bag</th>\n      <th>hat</th>\n      <th>upper_-1</th>\n      <th>upper_1</th>\n      <th>upper_2</th>\n      <th>upper_3</th>\n      <th>upper_4</th>\n      <th>upper_5</th>\n      <th>upper_6</th>\n      <th>...</th>\n      <th>lower_5</th>\n      <th>lower_6</th>\n      <th>lower_7</th>\n      <th>lower_8</th>\n      <th>lower_9</th>\n      <th>lower_10</th>\n      <th>lower_11</th>\n      <th>gender_-1</th>\n      <th>gender_0</th>\n      <th>gender_1</th>\n    </tr>\n  </thead>\n  <tbody>\n    <tr>\n      <th>0</th>\n      <td>VideoX_1_59_1.jpg</td>\n      <td>0</td>\n      <td>-1</td>\n      <td>False</td>\n      <td>True</td>\n      <td>False</td>\n      <td>False</td>\n      <td>False</td>\n      <td>False</td>\n      <td>False</td>\n      <td>...</td>\n      <td>False</td>\n      <td>False</td>\n      <td>False</td>\n      <td>False</td>\n      <td>False</td>\n      <td>False</td>\n      <td>False</td>\n      <td>False</td>\n      <td>True</td>\n      <td>False</td>\n    </tr>\n    <tr>\n      <th>1</th>\n      <td>VideoX_1_64_1.jpg</td>\n      <td>0</td>\n      <td>-1</td>\n      <td>False</td>\n      <td>True</td>\n      <td>False</td>\n      <td>False</td>\n      <td>False</td>\n      <td>False</td>\n      <td>False</td>\n      <td>...</td>\n      <td>False</td>\n      <td>False</td>\n      <td>False</td>\n      <td>False</td>\n      <td>False</td>\n      <td>False</td>\n      <td>False</td>\n      <td>False</td>\n      <td>True</td>\n      <td>False</td>\n    </tr>\n    <tr>\n      <th>2</th>\n      <td>VideoX_1_82_1.jpg</td>\n      <td>0</td>\n      <td>-1</td>\n      <td>False</td>\n      <td>True</td>\n      <td>False</td>\n      <td>False</td>\n      <td>False</td>\n      <td>False</td>\n      <td>False</td>\n      <td>...</td>\n      <td>False</td>\n      <td>False</td>\n      <td>False</td>\n      <td>False</td>\n      <td>False</td>\n      <td>False</td>\n      <td>False</td>\n      <td>False</td>\n      <td>True</td>\n      <td>False</td>\n    </tr>\n    <tr>\n      <th>3</th>\n      <td>VideoX_1_834_2.jpg</td>\n      <td>-1</td>\n      <td>-1</td>\n      <td>True</td>\n      <td>False</td>\n      <td>False</td>\n      <td>False</td>\n      <td>False</td>\n      <td>False</td>\n      <td>False</td>\n      <td>...</td>\n      <td>False</td>\n      <td>False</td>\n      <td>False</td>\n      <td>False</td>\n      <td>False</td>\n      <td>False</td>\n      <td>False</td>\n      <td>True</td>\n      <td>False</td>\n      <td>False</td>\n    </tr>\n    <tr>\n      <th>4</th>\n      <td>VideoX_1_88_1.jpg</td>\n      <td>0</td>\n      <td>-1</td>\n      <td>False</td>\n      <td>True</td>\n      <td>False</td>\n      <td>False</td>\n      <td>False</td>\n      <td>False</td>\n      <td>False</td>\n      <td>...</td>\n      <td>False</td>\n      <td>False</td>\n      <td>False</td>\n      <td>False</td>\n      <td>False</td>\n      <td>False</td>\n      <td>False</td>\n      <td>False</td>\n      <td>True</td>\n      <td>False</td>\n    </tr>\n  </tbody>\n</table>\n<p>5 rows × 30 columns</p>\n</div>"
     },
     "execution_count": 14,
     "metadata": {},
     "output_type": "execute_result"
    }
   ],
   "source": [
    "df_copy.head()"
   ],
   "metadata": {
    "collapsed": false,
    "ExecuteTime": {
     "end_time": "2024-01-28T18:26:51.799620718Z",
     "start_time": "2024-01-28T18:26:51.761726463Z"
    }
   },
   "execution_count": 14
  },
  {
   "cell_type": "code",
   "outputs": [
    {
     "name": "stdout",
     "output_type": "stream",
     "text": [
      "<class 'pandas.core.frame.DataFrame'>\n",
      "RangeIndex: 93082 entries, 0 to 93081\n",
      "Data columns (total 30 columns):\n",
      " #   Column     Non-Null Count  Dtype \n",
      "---  ------     --------------  ----- \n",
      " 0   filename   93082 non-null  object\n",
      " 1   bag        93082 non-null  int64 \n",
      " 2   hat        93082 non-null  int64 \n",
      " 3   upper_-1   93082 non-null  bool  \n",
      " 4   upper_1    93082 non-null  bool  \n",
      " 5   upper_2    93082 non-null  bool  \n",
      " 6   upper_3    93082 non-null  bool  \n",
      " 7   upper_4    93082 non-null  bool  \n",
      " 8   upper_5    93082 non-null  bool  \n",
      " 9   upper_6    93082 non-null  bool  \n",
      " 10  upper_7    93082 non-null  bool  \n",
      " 11  upper_8    93082 non-null  bool  \n",
      " 12  upper_9    93082 non-null  bool  \n",
      " 13  upper_10   93082 non-null  bool  \n",
      " 14  upper_11   93082 non-null  bool  \n",
      " 15  lower_-1   93082 non-null  bool  \n",
      " 16  lower_1    93082 non-null  bool  \n",
      " 17  lower_2    93082 non-null  bool  \n",
      " 18  lower_3    93082 non-null  bool  \n",
      " 19  lower_4    93082 non-null  bool  \n",
      " 20  lower_5    93082 non-null  bool  \n",
      " 21  lower_6    93082 non-null  bool  \n",
      " 22  lower_7    93082 non-null  bool  \n",
      " 23  lower_8    93082 non-null  bool  \n",
      " 24  lower_9    93082 non-null  bool  \n",
      " 25  lower_10   93082 non-null  bool  \n",
      " 26  lower_11   93082 non-null  bool  \n",
      " 27  gender_-1  93082 non-null  bool  \n",
      " 28  gender_0   93082 non-null  bool  \n",
      " 29  gender_1   93082 non-null  bool  \n",
      "dtypes: bool(27), int64(2), object(1)\n",
      "memory usage: 4.5+ MB\n"
     ]
    }
   ],
   "source": [
    "df_copy.info()"
   ],
   "metadata": {
    "collapsed": false,
    "ExecuteTime": {
     "end_time": "2024-01-28T18:26:53.235237734Z",
     "start_time": "2024-01-28T18:26:53.208790588Z"
    }
   },
   "execution_count": 15
  },
  {
   "cell_type": "code",
   "outputs": [
    {
     "data": {
      "text/plain": "Index([    3,     8,     9,    10,    11,    12,    13,    14,    16,    17,\n       ...\n       93072, 93073, 93074, 93075, 93076, 93077, 93078, 93079, 93080, 93081],\n      dtype='int64', length=57235)"
     },
     "execution_count": 16,
     "metadata": {},
     "output_type": "execute_result"
    }
   ],
   "source": [
    "df_nan_upp = df_copy.loc[df_copy['upper_-1'] == True]\n",
    "df_nan_upp.index\n"
   ],
   "metadata": {
    "collapsed": false,
    "ExecuteTime": {
     "end_time": "2024-01-28T18:26:54.501695345Z",
     "start_time": "2024-01-28T18:26:54.467919991Z"
    }
   },
   "execution_count": 16
  },
  {
   "cell_type": "code",
   "outputs": [],
   "source": [
    "df_nan_low = df_copy.loc[df_copy['lower_-1'] == True]"
   ],
   "metadata": {
    "collapsed": false,
    "ExecuteTime": {
     "end_time": "2024-01-28T18:26:55.670432646Z",
     "start_time": "2024-01-28T18:26:55.655665335Z"
    }
   },
   "execution_count": 17
  },
  {
   "cell_type": "code",
   "outputs": [],
   "source": [
    "df_nan_gender = df_copy.loc[df_copy['gender_-1'] == True]"
   ],
   "metadata": {
    "collapsed": false,
    "ExecuteTime": {
     "end_time": "2024-01-28T18:26:56.049586169Z",
     "start_time": "2024-01-28T18:26:56.043567527Z"
    }
   },
   "execution_count": 18
  },
  {
   "cell_type": "code",
   "outputs": [],
   "source": [
    "df_copy.loc[df_nan_gender.index, 'gender_0':'gender_1'] = -1"
   ],
   "metadata": {
    "collapsed": false,
    "ExecuteTime": {
     "end_time": "2024-01-28T18:26:57.584047309Z",
     "start_time": "2024-01-28T18:26:57.568069686Z"
    }
   },
   "execution_count": 19
  },
  {
   "cell_type": "code",
   "outputs": [
    {
     "data": {
      "text/plain": "                 filename  bag  hat  upper_-1 upper_1 upper_2 upper_3 upper_4  \\\n0       VideoX_1_59_1.jpg    0   -1     False    True   False   False   False   \n1       VideoX_1_64_1.jpg    0   -1     False    True   False   False   False   \n2       VideoX_1_82_1.jpg    0   -1     False    True   False   False   False   \n3      VideoX_1_834_2.jpg   -1   -1      True      -1      -1      -1      -1   \n4       VideoX_1_88_1.jpg    0   -1     False    True   False   False   False   \n...                   ...  ...  ...       ...     ...     ...     ...     ...   \n93077  internet_913_2.jpg    0   -1      True      -1      -1      -1      -1   \n93078   Video3_1262_1.jpg    0   -1      True      -1      -1      -1      -1   \n93079  internet_962_1.jpg    0   -1      True      -1      -1      -1      -1   \n93080  internet_967_1.jpg    0   -1      True      -1      -1      -1      -1   \n93081  internet_950_3.jpg    0   -1      True      -1      -1      -1      -1   \n\n      upper_5 upper_6  ... lower_5 lower_6 lower_7 lower_8 lower_9  lower_10  \\\n0       False   False  ...   False   False   False   False   False     False   \n1       False   False  ...   False   False   False   False   False     False   \n2       False   False  ...   False   False   False   False   False     False   \n3          -1      -1  ...      -1      -1      -1      -1      -1        -1   \n4       False   False  ...   False   False   False   False   False     False   \n...       ...     ...  ...     ...     ...     ...     ...     ...       ...   \n93077      -1      -1  ...      -1      -1      -1      -1      -1        -1   \n93078      -1      -1  ...      -1      -1      -1      -1      -1        -1   \n93079      -1      -1  ...      -1      -1      -1      -1      -1        -1   \n93080      -1      -1  ...      -1      -1      -1      -1      -1        -1   \n93081      -1      -1  ...      -1      -1      -1      -1      -1        -1   \n\n      lower_11 gender_-1 gender_0 gender_1  \n0        False     False     True    False  \n1        False     False     True    False  \n2        False     False     True    False  \n3           -1      True       -1       -1  \n4        False     False     True    False  \n...        ...       ...      ...      ...  \n93077       -1      True       -1       -1  \n93078       -1      True       -1       -1  \n93079       -1      True       -1       -1  \n93080       -1      True       -1       -1  \n93081       -1      True       -1       -1  \n\n[93082 rows x 30 columns]",
      "text/html": "<div>\n<style scoped>\n    .dataframe tbody tr th:only-of-type {\n        vertical-align: middle;\n    }\n\n    .dataframe tbody tr th {\n        vertical-align: top;\n    }\n\n    .dataframe thead th {\n        text-align: right;\n    }\n</style>\n<table border=\"1\" class=\"dataframe\">\n  <thead>\n    <tr style=\"text-align: right;\">\n      <th></th>\n      <th>filename</th>\n      <th>bag</th>\n      <th>hat</th>\n      <th>upper_-1</th>\n      <th>upper_1</th>\n      <th>upper_2</th>\n      <th>upper_3</th>\n      <th>upper_4</th>\n      <th>upper_5</th>\n      <th>upper_6</th>\n      <th>...</th>\n      <th>lower_5</th>\n      <th>lower_6</th>\n      <th>lower_7</th>\n      <th>lower_8</th>\n      <th>lower_9</th>\n      <th>lower_10</th>\n      <th>lower_11</th>\n      <th>gender_-1</th>\n      <th>gender_0</th>\n      <th>gender_1</th>\n    </tr>\n  </thead>\n  <tbody>\n    <tr>\n      <th>0</th>\n      <td>VideoX_1_59_1.jpg</td>\n      <td>0</td>\n      <td>-1</td>\n      <td>False</td>\n      <td>True</td>\n      <td>False</td>\n      <td>False</td>\n      <td>False</td>\n      <td>False</td>\n      <td>False</td>\n      <td>...</td>\n      <td>False</td>\n      <td>False</td>\n      <td>False</td>\n      <td>False</td>\n      <td>False</td>\n      <td>False</td>\n      <td>False</td>\n      <td>False</td>\n      <td>True</td>\n      <td>False</td>\n    </tr>\n    <tr>\n      <th>1</th>\n      <td>VideoX_1_64_1.jpg</td>\n      <td>0</td>\n      <td>-1</td>\n      <td>False</td>\n      <td>True</td>\n      <td>False</td>\n      <td>False</td>\n      <td>False</td>\n      <td>False</td>\n      <td>False</td>\n      <td>...</td>\n      <td>False</td>\n      <td>False</td>\n      <td>False</td>\n      <td>False</td>\n      <td>False</td>\n      <td>False</td>\n      <td>False</td>\n      <td>False</td>\n      <td>True</td>\n      <td>False</td>\n    </tr>\n    <tr>\n      <th>2</th>\n      <td>VideoX_1_82_1.jpg</td>\n      <td>0</td>\n      <td>-1</td>\n      <td>False</td>\n      <td>True</td>\n      <td>False</td>\n      <td>False</td>\n      <td>False</td>\n      <td>False</td>\n      <td>False</td>\n      <td>...</td>\n      <td>False</td>\n      <td>False</td>\n      <td>False</td>\n      <td>False</td>\n      <td>False</td>\n      <td>False</td>\n      <td>False</td>\n      <td>False</td>\n      <td>True</td>\n      <td>False</td>\n    </tr>\n    <tr>\n      <th>3</th>\n      <td>VideoX_1_834_2.jpg</td>\n      <td>-1</td>\n      <td>-1</td>\n      <td>True</td>\n      <td>-1</td>\n      <td>-1</td>\n      <td>-1</td>\n      <td>-1</td>\n      <td>-1</td>\n      <td>-1</td>\n      <td>...</td>\n      <td>-1</td>\n      <td>-1</td>\n      <td>-1</td>\n      <td>-1</td>\n      <td>-1</td>\n      <td>-1</td>\n      <td>-1</td>\n      <td>True</td>\n      <td>-1</td>\n      <td>-1</td>\n    </tr>\n    <tr>\n      <th>4</th>\n      <td>VideoX_1_88_1.jpg</td>\n      <td>0</td>\n      <td>-1</td>\n      <td>False</td>\n      <td>True</td>\n      <td>False</td>\n      <td>False</td>\n      <td>False</td>\n      <td>False</td>\n      <td>False</td>\n      <td>...</td>\n      <td>False</td>\n      <td>False</td>\n      <td>False</td>\n      <td>False</td>\n      <td>False</td>\n      <td>False</td>\n      <td>False</td>\n      <td>False</td>\n      <td>True</td>\n      <td>False</td>\n    </tr>\n    <tr>\n      <th>...</th>\n      <td>...</td>\n      <td>...</td>\n      <td>...</td>\n      <td>...</td>\n      <td>...</td>\n      <td>...</td>\n      <td>...</td>\n      <td>...</td>\n      <td>...</td>\n      <td>...</td>\n      <td>...</td>\n      <td>...</td>\n      <td>...</td>\n      <td>...</td>\n      <td>...</td>\n      <td>...</td>\n      <td>...</td>\n      <td>...</td>\n      <td>...</td>\n      <td>...</td>\n      <td>...</td>\n    </tr>\n    <tr>\n      <th>93077</th>\n      <td>internet_913_2.jpg</td>\n      <td>0</td>\n      <td>-1</td>\n      <td>True</td>\n      <td>-1</td>\n      <td>-1</td>\n      <td>-1</td>\n      <td>-1</td>\n      <td>-1</td>\n      <td>-1</td>\n      <td>...</td>\n      <td>-1</td>\n      <td>-1</td>\n      <td>-1</td>\n      <td>-1</td>\n      <td>-1</td>\n      <td>-1</td>\n      <td>-1</td>\n      <td>True</td>\n      <td>-1</td>\n      <td>-1</td>\n    </tr>\n    <tr>\n      <th>93078</th>\n      <td>Video3_1262_1.jpg</td>\n      <td>0</td>\n      <td>-1</td>\n      <td>True</td>\n      <td>-1</td>\n      <td>-1</td>\n      <td>-1</td>\n      <td>-1</td>\n      <td>-1</td>\n      <td>-1</td>\n      <td>...</td>\n      <td>-1</td>\n      <td>-1</td>\n      <td>-1</td>\n      <td>-1</td>\n      <td>-1</td>\n      <td>-1</td>\n      <td>-1</td>\n      <td>True</td>\n      <td>-1</td>\n      <td>-1</td>\n    </tr>\n    <tr>\n      <th>93079</th>\n      <td>internet_962_1.jpg</td>\n      <td>0</td>\n      <td>-1</td>\n      <td>True</td>\n      <td>-1</td>\n      <td>-1</td>\n      <td>-1</td>\n      <td>-1</td>\n      <td>-1</td>\n      <td>-1</td>\n      <td>...</td>\n      <td>-1</td>\n      <td>-1</td>\n      <td>-1</td>\n      <td>-1</td>\n      <td>-1</td>\n      <td>-1</td>\n      <td>-1</td>\n      <td>True</td>\n      <td>-1</td>\n      <td>-1</td>\n    </tr>\n    <tr>\n      <th>93080</th>\n      <td>internet_967_1.jpg</td>\n      <td>0</td>\n      <td>-1</td>\n      <td>True</td>\n      <td>-1</td>\n      <td>-1</td>\n      <td>-1</td>\n      <td>-1</td>\n      <td>-1</td>\n      <td>-1</td>\n      <td>...</td>\n      <td>-1</td>\n      <td>-1</td>\n      <td>-1</td>\n      <td>-1</td>\n      <td>-1</td>\n      <td>-1</td>\n      <td>-1</td>\n      <td>True</td>\n      <td>-1</td>\n      <td>-1</td>\n    </tr>\n    <tr>\n      <th>93081</th>\n      <td>internet_950_3.jpg</td>\n      <td>0</td>\n      <td>-1</td>\n      <td>True</td>\n      <td>-1</td>\n      <td>-1</td>\n      <td>-1</td>\n      <td>-1</td>\n      <td>-1</td>\n      <td>-1</td>\n      <td>...</td>\n      <td>-1</td>\n      <td>-1</td>\n      <td>-1</td>\n      <td>-1</td>\n      <td>-1</td>\n      <td>-1</td>\n      <td>-1</td>\n      <td>True</td>\n      <td>-1</td>\n      <td>-1</td>\n    </tr>\n  </tbody>\n</table>\n<p>93082 rows × 30 columns</p>\n</div>"
     },
     "execution_count": 20,
     "metadata": {},
     "output_type": "execute_result"
    }
   ],
   "source": [
    "df_copy.loc[df_nan_upp.index, 'upper_1':'upper_11'] = -1\n",
    "df_copy.loc[df_nan_low.index, 'lower_1':'lower_11'] = -1\n",
    "\n",
    "\n",
    "df_copy"
   ],
   "metadata": {
    "collapsed": false,
    "ExecuteTime": {
     "end_time": "2024-01-28T18:26:58.376743353Z",
     "start_time": "2024-01-28T18:26:58.230750973Z"
    }
   },
   "execution_count": 20
  },
  {
   "cell_type": "code",
   "outputs": [
    {
     "data": {
      "text/plain": "25"
     },
     "execution_count": 21,
     "metadata": {},
     "output_type": "execute_result"
    }
   ],
   "source": [
    "columns = [\"gender\", \"bag\", \"hat\"]\n",
    "for i in range(1, 12):\n",
    "    columns.append(\"upper_\" + str(i)) \n",
    "\n",
    "for i in range(1,12):\n",
    "        columns.append(\"lower_\" + str(i))   \n",
    "\n",
    "len(columns)"
   ],
   "metadata": {
    "collapsed": false,
    "ExecuteTime": {
     "end_time": "2024-01-28T18:27:00.865059391Z",
     "start_time": "2024-01-28T18:27:00.855035974Z"
    }
   },
   "execution_count": 21
  },
  {
   "cell_type": "code",
   "outputs": [],
   "source": [
    "\n",
    "#df_copy.loc[df_nan.index, ['upper_1':'upper_11']] = df_copy.loc[df_copy['upper_nan'] == True]"
   ],
   "metadata": {
    "collapsed": false,
    "ExecuteTime": {
     "end_time": "2024-01-28T18:27:01.548638256Z",
     "start_time": "2024-01-28T18:27:01.542307426Z"
    }
   },
   "execution_count": 22
  },
  {
   "cell_type": "code",
   "outputs": [],
   "source": [
    "df_copy.replace(True, 1, inplace=True)\n",
    "df_copy.replace(False, 0, inplace=True)\n",
    "df_copy.replace(-1, 0, inplace=True)"
   ],
   "metadata": {
    "collapsed": false,
    "ExecuteTime": {
     "end_time": "2024-01-28T18:27:02.827286787Z",
     "start_time": "2024-01-28T18:27:02.006104670Z"
    }
   },
   "execution_count": 23
  },
  {
   "cell_type": "code",
   "outputs": [
    {
     "data": {
      "text/plain": "                 filename  bag  hat  upper_-1  upper_1  upper_2  upper_3  \\\n0       VideoX_1_59_1.jpg    0    0         0        1        0        0   \n1       VideoX_1_64_1.jpg    0    0         0        1        0        0   \n2       VideoX_1_82_1.jpg    0    0         0        1        0        0   \n3      VideoX_1_834_2.jpg    0    0         1        0        0        0   \n4       VideoX_1_88_1.jpg    0    0         0        1        0        0   \n...                   ...  ...  ...       ...      ...      ...      ...   \n93077  internet_913_2.jpg    0    0         1        0        0        0   \n93078   Video3_1262_1.jpg    0    0         1        0        0        0   \n93079  internet_962_1.jpg    0    0         1        0        0        0   \n93080  internet_967_1.jpg    0    0         1        0        0        0   \n93081  internet_950_3.jpg    0    0         1        0        0        0   \n\n       upper_4  upper_5  upper_6  ...  lower_5  lower_6  lower_7  lower_8  \\\n0            0        0        0  ...        0        0        0        0   \n1            0        0        0  ...        0        0        0        0   \n2            0        0        0  ...        0        0        0        0   \n3            0        0        0  ...        0        0        0        0   \n4            0        0        0  ...        0        0        0        0   \n...        ...      ...      ...  ...      ...      ...      ...      ...   \n93077        0        0        0  ...        0        0        0        0   \n93078        0        0        0  ...        0        0        0        0   \n93079        0        0        0  ...        0        0        0        0   \n93080        0        0        0  ...        0        0        0        0   \n93081        0        0        0  ...        0        0        0        0   \n\n       lower_9  lower_10  lower_11  gender_-1  gender_0  gender_1  \n0            0         0         0          0         1         0  \n1            0         0         0          0         1         0  \n2            0         0         0          0         1         0  \n3            0         0         0          1         0         0  \n4            0         0         0          0         1         0  \n...        ...       ...       ...        ...       ...       ...  \n93077        0         0         0          1         0         0  \n93078        0         0         0          1         0         0  \n93079        0         0         0          1         0         0  \n93080        0         0         0          1         0         0  \n93081        0         0         0          1         0         0  \n\n[93082 rows x 30 columns]",
      "text/html": "<div>\n<style scoped>\n    .dataframe tbody tr th:only-of-type {\n        vertical-align: middle;\n    }\n\n    .dataframe tbody tr th {\n        vertical-align: top;\n    }\n\n    .dataframe thead th {\n        text-align: right;\n    }\n</style>\n<table border=\"1\" class=\"dataframe\">\n  <thead>\n    <tr style=\"text-align: right;\">\n      <th></th>\n      <th>filename</th>\n      <th>bag</th>\n      <th>hat</th>\n      <th>upper_-1</th>\n      <th>upper_1</th>\n      <th>upper_2</th>\n      <th>upper_3</th>\n      <th>upper_4</th>\n      <th>upper_5</th>\n      <th>upper_6</th>\n      <th>...</th>\n      <th>lower_5</th>\n      <th>lower_6</th>\n      <th>lower_7</th>\n      <th>lower_8</th>\n      <th>lower_9</th>\n      <th>lower_10</th>\n      <th>lower_11</th>\n      <th>gender_-1</th>\n      <th>gender_0</th>\n      <th>gender_1</th>\n    </tr>\n  </thead>\n  <tbody>\n    <tr>\n      <th>0</th>\n      <td>VideoX_1_59_1.jpg</td>\n      <td>0</td>\n      <td>0</td>\n      <td>0</td>\n      <td>1</td>\n      <td>0</td>\n      <td>0</td>\n      <td>0</td>\n      <td>0</td>\n      <td>0</td>\n      <td>...</td>\n      <td>0</td>\n      <td>0</td>\n      <td>0</td>\n      <td>0</td>\n      <td>0</td>\n      <td>0</td>\n      <td>0</td>\n      <td>0</td>\n      <td>1</td>\n      <td>0</td>\n    </tr>\n    <tr>\n      <th>1</th>\n      <td>VideoX_1_64_1.jpg</td>\n      <td>0</td>\n      <td>0</td>\n      <td>0</td>\n      <td>1</td>\n      <td>0</td>\n      <td>0</td>\n      <td>0</td>\n      <td>0</td>\n      <td>0</td>\n      <td>...</td>\n      <td>0</td>\n      <td>0</td>\n      <td>0</td>\n      <td>0</td>\n      <td>0</td>\n      <td>0</td>\n      <td>0</td>\n      <td>0</td>\n      <td>1</td>\n      <td>0</td>\n    </tr>\n    <tr>\n      <th>2</th>\n      <td>VideoX_1_82_1.jpg</td>\n      <td>0</td>\n      <td>0</td>\n      <td>0</td>\n      <td>1</td>\n      <td>0</td>\n      <td>0</td>\n      <td>0</td>\n      <td>0</td>\n      <td>0</td>\n      <td>...</td>\n      <td>0</td>\n      <td>0</td>\n      <td>0</td>\n      <td>0</td>\n      <td>0</td>\n      <td>0</td>\n      <td>0</td>\n      <td>0</td>\n      <td>1</td>\n      <td>0</td>\n    </tr>\n    <tr>\n      <th>3</th>\n      <td>VideoX_1_834_2.jpg</td>\n      <td>0</td>\n      <td>0</td>\n      <td>1</td>\n      <td>0</td>\n      <td>0</td>\n      <td>0</td>\n      <td>0</td>\n      <td>0</td>\n      <td>0</td>\n      <td>...</td>\n      <td>0</td>\n      <td>0</td>\n      <td>0</td>\n      <td>0</td>\n      <td>0</td>\n      <td>0</td>\n      <td>0</td>\n      <td>1</td>\n      <td>0</td>\n      <td>0</td>\n    </tr>\n    <tr>\n      <th>4</th>\n      <td>VideoX_1_88_1.jpg</td>\n      <td>0</td>\n      <td>0</td>\n      <td>0</td>\n      <td>1</td>\n      <td>0</td>\n      <td>0</td>\n      <td>0</td>\n      <td>0</td>\n      <td>0</td>\n      <td>...</td>\n      <td>0</td>\n      <td>0</td>\n      <td>0</td>\n      <td>0</td>\n      <td>0</td>\n      <td>0</td>\n      <td>0</td>\n      <td>0</td>\n      <td>1</td>\n      <td>0</td>\n    </tr>\n    <tr>\n      <th>...</th>\n      <td>...</td>\n      <td>...</td>\n      <td>...</td>\n      <td>...</td>\n      <td>...</td>\n      <td>...</td>\n      <td>...</td>\n      <td>...</td>\n      <td>...</td>\n      <td>...</td>\n      <td>...</td>\n      <td>...</td>\n      <td>...</td>\n      <td>...</td>\n      <td>...</td>\n      <td>...</td>\n      <td>...</td>\n      <td>...</td>\n      <td>...</td>\n      <td>...</td>\n      <td>...</td>\n    </tr>\n    <tr>\n      <th>93077</th>\n      <td>internet_913_2.jpg</td>\n      <td>0</td>\n      <td>0</td>\n      <td>1</td>\n      <td>0</td>\n      <td>0</td>\n      <td>0</td>\n      <td>0</td>\n      <td>0</td>\n      <td>0</td>\n      <td>...</td>\n      <td>0</td>\n      <td>0</td>\n      <td>0</td>\n      <td>0</td>\n      <td>0</td>\n      <td>0</td>\n      <td>0</td>\n      <td>1</td>\n      <td>0</td>\n      <td>0</td>\n    </tr>\n    <tr>\n      <th>93078</th>\n      <td>Video3_1262_1.jpg</td>\n      <td>0</td>\n      <td>0</td>\n      <td>1</td>\n      <td>0</td>\n      <td>0</td>\n      <td>0</td>\n      <td>0</td>\n      <td>0</td>\n      <td>0</td>\n      <td>...</td>\n      <td>0</td>\n      <td>0</td>\n      <td>0</td>\n      <td>0</td>\n      <td>0</td>\n      <td>0</td>\n      <td>0</td>\n      <td>1</td>\n      <td>0</td>\n      <td>0</td>\n    </tr>\n    <tr>\n      <th>93079</th>\n      <td>internet_962_1.jpg</td>\n      <td>0</td>\n      <td>0</td>\n      <td>1</td>\n      <td>0</td>\n      <td>0</td>\n      <td>0</td>\n      <td>0</td>\n      <td>0</td>\n      <td>0</td>\n      <td>...</td>\n      <td>0</td>\n      <td>0</td>\n      <td>0</td>\n      <td>0</td>\n      <td>0</td>\n      <td>0</td>\n      <td>0</td>\n      <td>1</td>\n      <td>0</td>\n      <td>0</td>\n    </tr>\n    <tr>\n      <th>93080</th>\n      <td>internet_967_1.jpg</td>\n      <td>0</td>\n      <td>0</td>\n      <td>1</td>\n      <td>0</td>\n      <td>0</td>\n      <td>0</td>\n      <td>0</td>\n      <td>0</td>\n      <td>0</td>\n      <td>...</td>\n      <td>0</td>\n      <td>0</td>\n      <td>0</td>\n      <td>0</td>\n      <td>0</td>\n      <td>0</td>\n      <td>0</td>\n      <td>1</td>\n      <td>0</td>\n      <td>0</td>\n    </tr>\n    <tr>\n      <th>93081</th>\n      <td>internet_950_3.jpg</td>\n      <td>0</td>\n      <td>0</td>\n      <td>1</td>\n      <td>0</td>\n      <td>0</td>\n      <td>0</td>\n      <td>0</td>\n      <td>0</td>\n      <td>0</td>\n      <td>...</td>\n      <td>0</td>\n      <td>0</td>\n      <td>0</td>\n      <td>0</td>\n      <td>0</td>\n      <td>0</td>\n      <td>0</td>\n      <td>1</td>\n      <td>0</td>\n      <td>0</td>\n    </tr>\n  </tbody>\n</table>\n<p>93082 rows × 30 columns</p>\n</div>"
     },
     "execution_count": 24,
     "metadata": {},
     "output_type": "execute_result"
    }
   ],
   "source": [
    "df_copy"
   ],
   "metadata": {
    "collapsed": false,
    "ExecuteTime": {
     "end_time": "2024-01-28T18:27:04.374069226Z",
     "start_time": "2024-01-28T18:27:04.332841124Z"
    }
   },
   "execution_count": 24
  },
  {
   "cell_type": "code",
   "outputs": [],
   "source": [
    "one_hot_encoded_color.replace(True, 1, inplace=True)\n",
    "one_hot_encoded_color.replace(False, 0, inplace=True)\n",
    "one_hot_encoded_color.replace(-1, 0, inplace=True)"
   ],
   "metadata": {
    "collapsed": false
   },
   "execution_count": null
  },
  {
   "cell_type": "markdown",
   "source": [],
   "metadata": {
    "collapsed": false
   }
  },
  {
   "cell_type": "code",
   "outputs": [],
   "source": [
    "one_hot_encoded_color"
   ],
   "metadata": {
    "collapsed": false
   },
   "execution_count": null
  },
  {
   "cell_type": "code",
   "outputs": [],
   "source": [
    "df_copy.drop(columns=['upper_-1', 'lower_-1', 'gender_-1'], inplace=True)"
   ],
   "metadata": {
    "collapsed": false,
    "ExecuteTime": {
     "end_time": "2024-01-28T18:27:45.955076209Z",
     "start_time": "2024-01-28T18:27:45.911216520Z"
    }
   },
   "execution_count": 25
  },
  {
   "cell_type": "code",
   "outputs": [
    {
     "data": {
      "text/plain": "                 filename  bag  hat  upper_1  upper_2  upper_3  upper_4  \\\n0       VideoX_1_59_1.jpg    0    0        1        0        0        0   \n1       VideoX_1_64_1.jpg    0    0        1        0        0        0   \n2       VideoX_1_82_1.jpg    0    0        1        0        0        0   \n3      VideoX_1_834_2.jpg    0    0        0        0        0        0   \n4       VideoX_1_88_1.jpg    0    0        1        0        0        0   \n...                   ...  ...  ...      ...      ...      ...      ...   \n93077  internet_913_2.jpg    0    0        0        0        0        0   \n93078   Video3_1262_1.jpg    0    0        0        0        0        0   \n93079  internet_962_1.jpg    0    0        0        0        0        0   \n93080  internet_967_1.jpg    0    0        0        0        0        0   \n93081  internet_950_3.jpg    0    0        0        0        0        0   \n\n       upper_5  upper_6  upper_7  ...  lower_4  lower_5  lower_6  lower_7  \\\n0            0        0        0  ...        1        0        0        0   \n1            0        0        0  ...        1        0        0        0   \n2            0        0        0  ...        1        0        0        0   \n3            0        0        0  ...        0        0        0        0   \n4            0        0        0  ...        1        0        0        0   \n...        ...      ...      ...  ...      ...      ...      ...      ...   \n93077        0        0        0  ...        0        0        0        0   \n93078        0        0        0  ...        0        0        0        0   \n93079        0        0        0  ...        0        0        0        0   \n93080        0        0        0  ...        0        0        0        0   \n93081        0        0        0  ...        0        0        0        0   \n\n       lower_8  lower_9  lower_10  lower_11  gender_0  gender_1  \n0            0        0         0         0         1         0  \n1            0        0         0         0         1         0  \n2            0        0         0         0         1         0  \n3            0        0         0         0         0         0  \n4            0        0         0         0         1         0  \n...        ...      ...       ...       ...       ...       ...  \n93077        0        0         0         0         0         0  \n93078        0        0         0         0         0         0  \n93079        0        0         0         0         0         0  \n93080        0        0         0         0         0         0  \n93081        0        0         0         0         0         0  \n\n[93082 rows x 27 columns]",
      "text/html": "<div>\n<style scoped>\n    .dataframe tbody tr th:only-of-type {\n        vertical-align: middle;\n    }\n\n    .dataframe tbody tr th {\n        vertical-align: top;\n    }\n\n    .dataframe thead th {\n        text-align: right;\n    }\n</style>\n<table border=\"1\" class=\"dataframe\">\n  <thead>\n    <tr style=\"text-align: right;\">\n      <th></th>\n      <th>filename</th>\n      <th>bag</th>\n      <th>hat</th>\n      <th>upper_1</th>\n      <th>upper_2</th>\n      <th>upper_3</th>\n      <th>upper_4</th>\n      <th>upper_5</th>\n      <th>upper_6</th>\n      <th>upper_7</th>\n      <th>...</th>\n      <th>lower_4</th>\n      <th>lower_5</th>\n      <th>lower_6</th>\n      <th>lower_7</th>\n      <th>lower_8</th>\n      <th>lower_9</th>\n      <th>lower_10</th>\n      <th>lower_11</th>\n      <th>gender_0</th>\n      <th>gender_1</th>\n    </tr>\n  </thead>\n  <tbody>\n    <tr>\n      <th>0</th>\n      <td>VideoX_1_59_1.jpg</td>\n      <td>0</td>\n      <td>0</td>\n      <td>1</td>\n      <td>0</td>\n      <td>0</td>\n      <td>0</td>\n      <td>0</td>\n      <td>0</td>\n      <td>0</td>\n      <td>...</td>\n      <td>1</td>\n      <td>0</td>\n      <td>0</td>\n      <td>0</td>\n      <td>0</td>\n      <td>0</td>\n      <td>0</td>\n      <td>0</td>\n      <td>1</td>\n      <td>0</td>\n    </tr>\n    <tr>\n      <th>1</th>\n      <td>VideoX_1_64_1.jpg</td>\n      <td>0</td>\n      <td>0</td>\n      <td>1</td>\n      <td>0</td>\n      <td>0</td>\n      <td>0</td>\n      <td>0</td>\n      <td>0</td>\n      <td>0</td>\n      <td>...</td>\n      <td>1</td>\n      <td>0</td>\n      <td>0</td>\n      <td>0</td>\n      <td>0</td>\n      <td>0</td>\n      <td>0</td>\n      <td>0</td>\n      <td>1</td>\n      <td>0</td>\n    </tr>\n    <tr>\n      <th>2</th>\n      <td>VideoX_1_82_1.jpg</td>\n      <td>0</td>\n      <td>0</td>\n      <td>1</td>\n      <td>0</td>\n      <td>0</td>\n      <td>0</td>\n      <td>0</td>\n      <td>0</td>\n      <td>0</td>\n      <td>...</td>\n      <td>1</td>\n      <td>0</td>\n      <td>0</td>\n      <td>0</td>\n      <td>0</td>\n      <td>0</td>\n      <td>0</td>\n      <td>0</td>\n      <td>1</td>\n      <td>0</td>\n    </tr>\n    <tr>\n      <th>3</th>\n      <td>VideoX_1_834_2.jpg</td>\n      <td>0</td>\n      <td>0</td>\n      <td>0</td>\n      <td>0</td>\n      <td>0</td>\n      <td>0</td>\n      <td>0</td>\n      <td>0</td>\n      <td>0</td>\n      <td>...</td>\n      <td>0</td>\n      <td>0</td>\n      <td>0</td>\n      <td>0</td>\n      <td>0</td>\n      <td>0</td>\n      <td>0</td>\n      <td>0</td>\n      <td>0</td>\n      <td>0</td>\n    </tr>\n    <tr>\n      <th>4</th>\n      <td>VideoX_1_88_1.jpg</td>\n      <td>0</td>\n      <td>0</td>\n      <td>1</td>\n      <td>0</td>\n      <td>0</td>\n      <td>0</td>\n      <td>0</td>\n      <td>0</td>\n      <td>0</td>\n      <td>...</td>\n      <td>1</td>\n      <td>0</td>\n      <td>0</td>\n      <td>0</td>\n      <td>0</td>\n      <td>0</td>\n      <td>0</td>\n      <td>0</td>\n      <td>1</td>\n      <td>0</td>\n    </tr>\n    <tr>\n      <th>...</th>\n      <td>...</td>\n      <td>...</td>\n      <td>...</td>\n      <td>...</td>\n      <td>...</td>\n      <td>...</td>\n      <td>...</td>\n      <td>...</td>\n      <td>...</td>\n      <td>...</td>\n      <td>...</td>\n      <td>...</td>\n      <td>...</td>\n      <td>...</td>\n      <td>...</td>\n      <td>...</td>\n      <td>...</td>\n      <td>...</td>\n      <td>...</td>\n      <td>...</td>\n      <td>...</td>\n    </tr>\n    <tr>\n      <th>93077</th>\n      <td>internet_913_2.jpg</td>\n      <td>0</td>\n      <td>0</td>\n      <td>0</td>\n      <td>0</td>\n      <td>0</td>\n      <td>0</td>\n      <td>0</td>\n      <td>0</td>\n      <td>0</td>\n      <td>...</td>\n      <td>0</td>\n      <td>0</td>\n      <td>0</td>\n      <td>0</td>\n      <td>0</td>\n      <td>0</td>\n      <td>0</td>\n      <td>0</td>\n      <td>0</td>\n      <td>0</td>\n    </tr>\n    <tr>\n      <th>93078</th>\n      <td>Video3_1262_1.jpg</td>\n      <td>0</td>\n      <td>0</td>\n      <td>0</td>\n      <td>0</td>\n      <td>0</td>\n      <td>0</td>\n      <td>0</td>\n      <td>0</td>\n      <td>0</td>\n      <td>...</td>\n      <td>0</td>\n      <td>0</td>\n      <td>0</td>\n      <td>0</td>\n      <td>0</td>\n      <td>0</td>\n      <td>0</td>\n      <td>0</td>\n      <td>0</td>\n      <td>0</td>\n    </tr>\n    <tr>\n      <th>93079</th>\n      <td>internet_962_1.jpg</td>\n      <td>0</td>\n      <td>0</td>\n      <td>0</td>\n      <td>0</td>\n      <td>0</td>\n      <td>0</td>\n      <td>0</td>\n      <td>0</td>\n      <td>0</td>\n      <td>...</td>\n      <td>0</td>\n      <td>0</td>\n      <td>0</td>\n      <td>0</td>\n      <td>0</td>\n      <td>0</td>\n      <td>0</td>\n      <td>0</td>\n      <td>0</td>\n      <td>0</td>\n    </tr>\n    <tr>\n      <th>93080</th>\n      <td>internet_967_1.jpg</td>\n      <td>0</td>\n      <td>0</td>\n      <td>0</td>\n      <td>0</td>\n      <td>0</td>\n      <td>0</td>\n      <td>0</td>\n      <td>0</td>\n      <td>0</td>\n      <td>...</td>\n      <td>0</td>\n      <td>0</td>\n      <td>0</td>\n      <td>0</td>\n      <td>0</td>\n      <td>0</td>\n      <td>0</td>\n      <td>0</td>\n      <td>0</td>\n      <td>0</td>\n    </tr>\n    <tr>\n      <th>93081</th>\n      <td>internet_950_3.jpg</td>\n      <td>0</td>\n      <td>0</td>\n      <td>0</td>\n      <td>0</td>\n      <td>0</td>\n      <td>0</td>\n      <td>0</td>\n      <td>0</td>\n      <td>0</td>\n      <td>...</td>\n      <td>0</td>\n      <td>0</td>\n      <td>0</td>\n      <td>0</td>\n      <td>0</td>\n      <td>0</td>\n      <td>0</td>\n      <td>0</td>\n      <td>0</td>\n      <td>0</td>\n    </tr>\n  </tbody>\n</table>\n<p>93082 rows × 27 columns</p>\n</div>"
     },
     "execution_count": 26,
     "metadata": {},
     "output_type": "execute_result"
    }
   ],
   "source": [
    "df_copy"
   ],
   "metadata": {
    "collapsed": false,
    "ExecuteTime": {
     "end_time": "2024-01-28T18:27:47.612737794Z",
     "start_time": "2024-01-28T18:27:47.557581244Z"
    }
   },
   "execution_count": 26
  },
  {
   "cell_type": "code",
   "outputs": [],
   "source": [
    "import pandas as pd\n",
    "import numpy as np\n",
    "import scipy"
   ],
   "metadata": {
    "collapsed": false
   },
   "execution_count": null
  },
  {
   "cell_type": "code",
   "outputs": [],
   "source": [
    "def nan_index(df):\n",
    "        df_nan_upp = df.loc[df['upper_-1'] == True]\n",
    "        \n",
    "        df_nan_low = df.loc[df['lower_-1'] == True]\n",
    "        df.loc[df_nan_upp.index, 'upper_1':'upper_11'] = -1\n",
    "        df.loc[df_nan_low.index, 'lower_1':'lower_11'] = -1\n",
    "        df.drop(columns=['upper_-1', 'lower_-1'], inplace=True)\n",
    "        \n",
    "        return df\n",
    "\n",
    "def conversion(filename):\n",
    "        df = pd.read_csv(filename, header=None, names=['filename', 'upper', 'lower', 'gender', 'bag', 'hat'])\n",
    "        #print(len(df.index))\n",
    "        #df.replace(-1, pd.NA, inplace=True)\n",
    "        #print(\"valori nulli\", df.isnull().sum())\n",
    "        df['upper'] = df['upper'].astype('category')\n",
    "        df['lower'] = df['lower'].astype('category')\n",
    "        \n",
    "        one_hot_encoded_color = pd.get_dummies(df, columns=['upper', 'lower'])\n",
    "        print(one_hot_encoded_color.head())\n",
    "        one_hot_encoded_color = nan_index(one_hot_encoded_color)\n",
    "        print(one_hot_encoded_color.head())\n",
    "        one_hot_encoded_color.replace(True, 1, inplace=True)\n",
    "        one_hot_encoded_color.replace(False, 0, inplace=True)\n",
    "        \n",
    "        return one_hot_encoded_color\n",
    "\n",
    "def create_file_mat(dataframe):\n",
    "        color = [\"black\", \"blue\", \"brown\", \"gray\", \"green\", \"orange\", \"pink\", \"purple\", \"red\", \"white\", \"yellow\"]\n",
    "\n",
    "        up_color = [\"up\" + c for c in color]\n",
    "        lower_color = [\"lo\" + c for c in color]\n",
    "        attributes = [\"gender\", \"bag\", \"hat\"] + up_color + lower_color\n",
    "\n",
    "        attributes = pd.DataFrame(attributes)\n",
    "        print(\"attributes\",attributes)\n",
    "        attributes = np.array(attributes[0]).reshape(25,1)\n",
    "        \n",
    "        train_label = np.array(dataframe[columns])\n",
    "        images_name = np.array(dataframe['filename']).reshape(1,93082)\n",
    "        images_name = images_name.transpose()\n",
    "        \n",
    "        return attributes, train_label, images_name\n",
    "\n",
    "columns = [\"gender\", \"bag\", \"hat\"]\n",
    "for i in range(1, 12):\n",
    "        columns.append(\"upper_\" + str(i))\n",
    "\n",
    "for i in range(1,12):\n",
    "        columns.append(\"lower_\" + str(i))\n",
    "        \n",
    "df_train = conversion(\"training_set.csv\")\n",
    "#attributes_train, train_label, images_name_train = create_file_mat(df_train)\n",
    "\n",
    "df_validation = conversion(\"validation_set.csv\")\n",
    "\n",
    "#attributes_val, val_label, images_name_val = create_file_mat(df_validation)"
   ],
   "metadata": {
    "collapsed": false
   },
   "execution_count": null
  },
  {
   "cell_type": "code",
   "outputs": [],
   "source": [
    "data = {'attributes': attributes,\n",
    "        'test_images_name': [],\n",
    "        'test_label': [[0, 0, 0],[1, 1, 1], [2, 2, 2]],\n",
    "        'train_images_name': images_name,\n",
    "        'train_label': train_label,\n",
    "        'val_images_name': [],\n",
    "        'val_label': [[]]\n",
    "        }"
   ],
   "metadata": {
    "collapsed": false
   }
  },
  {
   "cell_type": "code",
   "outputs": [],
   "source": [
    "color = [\"black\", \"blue\", \"brown\", \"gray\", \"green\", \"orange\", \"pink\", \"purple\", \"red\", \"white\", \"yellow\"]\n",
    "\n",
    "\n",
    "up_color = [\"up\" + c for c in color]\n",
    "lower_color = [\"lo\" + c for c in color]\n",
    "attributes = [\"gender\", \"bag\", \"hat\"] + up_color + lower_color \n",
    "#attributes = [[element] for element in attributes]\n",
    "\n",
    "attributes = pd.DataFrame(attributes)\n",
    "print(\"attributes\",attributes)\n",
    "#print(color)\n",
    "attributes = np.array(attributes[0]).reshape(25,1)\n",
    "\n",
    "#print(attributes)\n",
    "\n",
    "#print(\"4 columns\", df_train[[1, 2, 3, 4, 5]])\n",
    "columns_feature = columns\n",
    "train_label = np.array(one_hot_encoded_color[columns])\n",
    "\n",
    "#attributes = attributes.reshape(1,25)\n",
    "print(attributes.shape)\n",
    "print(attributes)\n",
    "print(train_label.shape)\n"
   ],
   "metadata": {
    "collapsed": false
   },
   "execution_count": null
  },
  {
   "cell_type": "code",
   "outputs": [],
   "source": [
    "images_name = np.array(one_hot_encoded_color['filename']).reshape(1,93082)\n",
    "images_name = images_name.transpose()\n",
    "#images_name = images_name\n",
    "print(images_name.shape)\n",
    "print(images_name)\n",
    "\n",
    "data = {'attributes': attributes,\n",
    "        'test_images_name': [],\n",
    "        'test_label': [[0, 0, 0],[1, 1, 1], [2, 2, 2]],\n",
    "        'train_images_name': images_name,\n",
    "        'train_label': train_label,\n",
    "        'val_images_name': [],\n",
    "        'val_label': [[]]\n",
    "        }"
   ],
   "metadata": {
    "collapsed": false
   },
   "execution_count": null
  },
  {
   "cell_type": "code",
   "outputs": [],
   "source": [
    "data"
   ],
   "metadata": {
    "collapsed": false
   },
   "execution_count": null
  },
  {
   "cell_type": "code",
   "outputs": [],
   "source": [
    "file_path = 'example.mat'\n",
    "\n",
    "# Save the data to a .mat file\n",
    "scipy.io.savemat(file_path, data)"
   ],
   "metadata": {
    "collapsed": false
   },
   "execution_count": null
  },
  {
   "cell_type": "code",
   "outputs": [],
   "source": [],
   "metadata": {
    "collapsed": false
   }
  }
 ],
 "metadata": {
  "language_info": {
   "name": "python"
  },
  "kernelspec": {
   "name": "python3",
   "language": "python",
   "display_name": "Python 3 (ipykernel)"
  }
 },
 "nbformat": 4,
 "nbformat_minor": 2
}
