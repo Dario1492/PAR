{
 "cells": [
  {
   "cell_type": "code",
   "execution_count": 1,
   "metadata": {
    "ExecuteTime": {
     "end_time": "2024-01-29T09:57:27.283818213Z",
     "start_time": "2024-01-29T09:57:27.060700930Z"
    }
   },
   "outputs": [],
   "source": [
    "import pandas as pd\n",
    "import numpy as np\n",
    "import scipy\n"
   ]
  },
  {
   "cell_type": "code",
   "execution_count": 2,
   "metadata": {
    "collapsed": false,
    "ExecuteTime": {
     "end_time": "2024-01-29T09:57:27.655633693Z",
     "start_time": "2024-01-29T09:57:27.550130861Z"
    }
   },
   "outputs": [],
   "source": [
    "df = pd.read_csv('training_set.csv', header=None, names=['filename', 'upper', 'lower', 'gender', 'bag', 'hat'])"
   ]
  },
  {
   "cell_type": "code",
   "execution_count": 3,
   "metadata": {
    "collapsed": false,
    "ExecuteTime": {
     "end_time": "2024-01-29T09:57:28.356728486Z",
     "start_time": "2024-01-29T09:57:28.342210115Z"
    }
   },
   "outputs": [
    {
     "data": {
      "text/plain": "93082"
     },
     "execution_count": 3,
     "metadata": {},
     "output_type": "execute_result"
    }
   ],
   "source": [
    "len(df.index)"
   ]
  },
  {
   "cell_type": "code",
   "execution_count": 4,
   "metadata": {
    "collapsed": false,
    "ExecuteTime": {
     "end_time": "2024-01-29T09:57:29.072857302Z",
     "start_time": "2024-01-29T09:57:29.052437625Z"
    }
   },
   "outputs": [],
   "source": [
    "df.replace(-1, pd.NA, inplace=True)"
   ]
  },
  {
   "cell_type": "code",
   "execution_count": 5,
   "metadata": {
    "collapsed": false,
    "ExecuteTime": {
     "end_time": "2024-01-29T09:57:29.756815577Z",
     "start_time": "2024-01-29T09:57:29.738985466Z"
    }
   },
   "outputs": [
    {
     "data": {
      "text/plain": "                 filename upper lower gender   bag  hat\n0       VideoX_1_59_1.jpg     1     4      0     0  NaN\n1       VideoX_1_64_1.jpg     1     4      0     0  NaN\n2       VideoX_1_82_1.jpg     1     4      0     0  NaN\n3      VideoX_1_834_2.jpg  <NA>  <NA>   <NA>  <NA>  NaN\n4       VideoX_1_88_1.jpg     1     4      0     0  NaN\n...                   ...   ...   ...    ...   ...  ...\n93077  internet_913_2.jpg   NaN   NaN    NaN     0  NaN\n93078   Video3_1262_1.jpg   NaN   NaN    NaN     0  NaN\n93079  internet_962_1.jpg   NaN   NaN    NaN     0  NaN\n93080  internet_967_1.jpg   NaN   NaN    NaN     0  NaN\n93081  internet_950_3.jpg   NaN   NaN    NaN     0  NaN\n\n[93082 rows x 6 columns]",
      "text/html": "<div>\n<style scoped>\n    .dataframe tbody tr th:only-of-type {\n        vertical-align: middle;\n    }\n\n    .dataframe tbody tr th {\n        vertical-align: top;\n    }\n\n    .dataframe thead th {\n        text-align: right;\n    }\n</style>\n<table border=\"1\" class=\"dataframe\">\n  <thead>\n    <tr style=\"text-align: right;\">\n      <th></th>\n      <th>filename</th>\n      <th>upper</th>\n      <th>lower</th>\n      <th>gender</th>\n      <th>bag</th>\n      <th>hat</th>\n    </tr>\n  </thead>\n  <tbody>\n    <tr>\n      <th>0</th>\n      <td>VideoX_1_59_1.jpg</td>\n      <td>1</td>\n      <td>4</td>\n      <td>0</td>\n      <td>0</td>\n      <td>NaN</td>\n    </tr>\n    <tr>\n      <th>1</th>\n      <td>VideoX_1_64_1.jpg</td>\n      <td>1</td>\n      <td>4</td>\n      <td>0</td>\n      <td>0</td>\n      <td>NaN</td>\n    </tr>\n    <tr>\n      <th>2</th>\n      <td>VideoX_1_82_1.jpg</td>\n      <td>1</td>\n      <td>4</td>\n      <td>0</td>\n      <td>0</td>\n      <td>NaN</td>\n    </tr>\n    <tr>\n      <th>3</th>\n      <td>VideoX_1_834_2.jpg</td>\n      <td>&lt;NA&gt;</td>\n      <td>&lt;NA&gt;</td>\n      <td>&lt;NA&gt;</td>\n      <td>&lt;NA&gt;</td>\n      <td>NaN</td>\n    </tr>\n    <tr>\n      <th>4</th>\n      <td>VideoX_1_88_1.jpg</td>\n      <td>1</td>\n      <td>4</td>\n      <td>0</td>\n      <td>0</td>\n      <td>NaN</td>\n    </tr>\n    <tr>\n      <th>...</th>\n      <td>...</td>\n      <td>...</td>\n      <td>...</td>\n      <td>...</td>\n      <td>...</td>\n      <td>...</td>\n    </tr>\n    <tr>\n      <th>93077</th>\n      <td>internet_913_2.jpg</td>\n      <td>NaN</td>\n      <td>NaN</td>\n      <td>NaN</td>\n      <td>0</td>\n      <td>NaN</td>\n    </tr>\n    <tr>\n      <th>93078</th>\n      <td>Video3_1262_1.jpg</td>\n      <td>NaN</td>\n      <td>NaN</td>\n      <td>NaN</td>\n      <td>0</td>\n      <td>NaN</td>\n    </tr>\n    <tr>\n      <th>93079</th>\n      <td>internet_962_1.jpg</td>\n      <td>NaN</td>\n      <td>NaN</td>\n      <td>NaN</td>\n      <td>0</td>\n      <td>NaN</td>\n    </tr>\n    <tr>\n      <th>93080</th>\n      <td>internet_967_1.jpg</td>\n      <td>NaN</td>\n      <td>NaN</td>\n      <td>NaN</td>\n      <td>0</td>\n      <td>NaN</td>\n    </tr>\n    <tr>\n      <th>93081</th>\n      <td>internet_950_3.jpg</td>\n      <td>NaN</td>\n      <td>NaN</td>\n      <td>NaN</td>\n      <td>0</td>\n      <td>NaN</td>\n    </tr>\n  </tbody>\n</table>\n<p>93082 rows × 6 columns</p>\n</div>"
     },
     "execution_count": 5,
     "metadata": {},
     "output_type": "execute_result"
    }
   ],
   "source": [
    "df"
   ]
  },
  {
   "cell_type": "code",
   "execution_count": 6,
   "metadata": {
    "ExecuteTime": {
     "end_time": "2024-01-29T09:57:35.603188811Z",
     "start_time": "2024-01-29T09:57:35.587852789Z"
    }
   },
   "outputs": [
    {
     "name": "stdout",
     "output_type": "stream",
     "text": [
      "values null filename        0\n",
      "upper       57235\n",
      "lower       32323\n",
      "gender       7670\n",
      "bag         27398\n",
      "hat         14811\n",
      "dtype: int64\n"
     ]
    }
   ],
   "source": [
    "print(\"values null\", df.isnull().sum())"
   ]
  },
  {
   "cell_type": "code",
   "execution_count": 7,
   "metadata": {
    "ExecuteTime": {
     "end_time": "2024-01-29T10:00:38.344985641Z",
     "start_time": "2024-01-29T10:00:38.301795698Z"
    }
   },
   "outputs": [],
   "source": [
    "def count_value(count, color):\n",
    "    for i, color in enumerate(color):\n",
    "        count['upper_' + color] = (df.loc[(df['upper'] == i+1)]).shape[0]\n",
    "        count['lower_' + color] = (df.loc[(df['lower'] == i+1)]).shape[0]\n",
    "\n",
    "    return count\n"
   ]
  },
  {
   "cell_type": "code",
   "execution_count": 8,
   "metadata": {
    "ExecuteTime": {
     "end_time": "2024-01-29T10:00:39.369665284Z",
     "start_time": "2024-01-29T10:00:39.275739314Z"
    }
   },
   "outputs": [],
   "source": [
    "count = dict()\n",
    "color = [\"black\", \"blue\", \"brown\", \"gray\", \"green\", \"orange\", \"pink\", \"purple\", \"red\", \"white\", \"yellow\"]\n",
    "count = count_value(count, color)"
   ]
  },
  {
   "cell_type": "code",
   "execution_count": 9,
   "metadata": {
    "ExecuteTime": {
     "end_time": "2024-01-29T10:00:40.167338233Z",
     "start_time": "2024-01-29T10:00:40.157185990Z"
    }
   },
   "outputs": [
    {
     "data": {
      "text/plain": "{'upper_black': 15195,\n 'lower_black': 36228,\n 'upper_blue': 3225,\n 'lower_blue': 16752,\n 'upper_brown': 1124,\n 'lower_brown': 694,\n 'upper_gray': 4714,\n 'lower_gray': 4427,\n 'upper_green': 1381,\n 'lower_green': 498,\n 'upper_orange': 266,\n 'lower_orange': 38,\n 'upper_pink': 697,\n 'lower_pink': 57,\n 'upper_purple': 810,\n 'lower_purple': 104,\n 'upper_red': 2728,\n 'lower_red': 466,\n 'upper_white': 4828,\n 'lower_white': 760,\n 'upper_yellow': 879,\n 'lower_yellow': 735}"
     },
     "execution_count": 9,
     "metadata": {},
     "output_type": "execute_result"
    }
   ],
   "source": [
    "count"
   ]
  },
  {
   "cell_type": "code",
   "execution_count": 10,
   "metadata": {
    "collapsed": false,
    "ExecuteTime": {
     "end_time": "2024-01-29T10:00:41.299204386Z",
     "start_time": "2024-01-29T10:00:41.173125033Z"
    }
   },
   "outputs": [],
   "source": [
    "df.replace(pd.NA, -1, inplace=True)"
   ]
  },
  {
   "cell_type": "code",
   "execution_count": null,
   "metadata": {
    "collapsed": false
   },
   "outputs": [],
   "source": [
    "df.loc[(df['upper'] == -1) & (df['lower'] == -1) & (df['gender'] == -1) & (df['bag'] == -1) & (df['hat'] == -1)]"
   ]
  },
  {
   "cell_type": "code",
   "execution_count": 11,
   "metadata": {
    "collapsed": false,
    "ExecuteTime": {
     "end_time": "2024-01-29T10:00:44.414733216Z",
     "start_time": "2024-01-29T10:00:44.399069117Z"
    }
   },
   "outputs": [],
   "source": [
    "all_values = df.loc[(df['upper'] != -1) & (df['lower'] != -1) & (df['gender'] != -1) & (df['bag'] != -1) & (df['hat'] != -1)]"
   ]
  },
  {
   "cell_type": "code",
   "execution_count": 12,
   "metadata": {
    "collapsed": false,
    "ExecuteTime": {
     "end_time": "2024-01-29T10:00:45.170583158Z",
     "start_time": "2024-01-29T10:00:45.117786744Z"
    }
   },
   "outputs": [
    {
     "data": {
      "text/plain": "(26076, 6)"
     },
     "execution_count": 12,
     "metadata": {},
     "output_type": "execute_result"
    }
   ],
   "source": [
    "all_values.shape"
   ]
  },
  {
   "cell_type": "code",
   "execution_count": 13,
   "metadata": {
    "ExecuteTime": {
     "end_time": "2024-01-29T10:00:46.860748025Z",
     "start_time": "2024-01-29T10:00:46.844467288Z"
    }
   },
   "outputs": [
    {
     "data": {
      "text/plain": "                                                filename  upper  lower  \\\n12293  CAM14-2014-02-17-20140217102131-20140217102719...      4      2   \n12295  CAM14-2014-02-17-20140217102131-20140217102719...      1      2   \n12296  CAM14-2014-02-17-20140217102131-20140217102719...      1      1   \n12297  CAM14-2014-02-17-20140217101543-20140217102131...     10      1   \n12299  CAM14-2014-02-17-20140217101543-20140217102131...      1      1   \n...                                                  ...    ...    ...   \n64072  CAM13-2014-03-21-20140321152608-20140321153204...      5      2   \n64075  CAM13-2014-03-28-20140328151115-20140328151855...      1      2   \n64078  CAM13-2014-04-24-20140424122202-20140424122750...      7      2   \n64079  CAM14-2014-02-14-20140214144152-20140214145256...      9      4   \n64082  CAM16-2014-03-27-20140327102842-20140327103442...      1      2   \n\n       gender  bag  hat  \n12293       0    0    0  \n12295       0    0    0  \n12296       1    0    0  \n12297       1    0    0  \n12299       0    1    0  \n...       ...  ...  ...  \n64072       0    1    0  \n64075       0    0    0  \n64078       0    1    0  \n64079       0    0    0  \n64082       0    1    0  \n\n[26076 rows x 6 columns]",
      "text/html": "<div>\n<style scoped>\n    .dataframe tbody tr th:only-of-type {\n        vertical-align: middle;\n    }\n\n    .dataframe tbody tr th {\n        vertical-align: top;\n    }\n\n    .dataframe thead th {\n        text-align: right;\n    }\n</style>\n<table border=\"1\" class=\"dataframe\">\n  <thead>\n    <tr style=\"text-align: right;\">\n      <th></th>\n      <th>filename</th>\n      <th>upper</th>\n      <th>lower</th>\n      <th>gender</th>\n      <th>bag</th>\n      <th>hat</th>\n    </tr>\n  </thead>\n  <tbody>\n    <tr>\n      <th>12293</th>\n      <td>CAM14-2014-02-17-20140217102131-20140217102719...</td>\n      <td>4</td>\n      <td>2</td>\n      <td>0</td>\n      <td>0</td>\n      <td>0</td>\n    </tr>\n    <tr>\n      <th>12295</th>\n      <td>CAM14-2014-02-17-20140217102131-20140217102719...</td>\n      <td>1</td>\n      <td>2</td>\n      <td>0</td>\n      <td>0</td>\n      <td>0</td>\n    </tr>\n    <tr>\n      <th>12296</th>\n      <td>CAM14-2014-02-17-20140217102131-20140217102719...</td>\n      <td>1</td>\n      <td>1</td>\n      <td>1</td>\n      <td>0</td>\n      <td>0</td>\n    </tr>\n    <tr>\n      <th>12297</th>\n      <td>CAM14-2014-02-17-20140217101543-20140217102131...</td>\n      <td>10</td>\n      <td>1</td>\n      <td>1</td>\n      <td>0</td>\n      <td>0</td>\n    </tr>\n    <tr>\n      <th>12299</th>\n      <td>CAM14-2014-02-17-20140217101543-20140217102131...</td>\n      <td>1</td>\n      <td>1</td>\n      <td>0</td>\n      <td>1</td>\n      <td>0</td>\n    </tr>\n    <tr>\n      <th>...</th>\n      <td>...</td>\n      <td>...</td>\n      <td>...</td>\n      <td>...</td>\n      <td>...</td>\n      <td>...</td>\n    </tr>\n    <tr>\n      <th>64072</th>\n      <td>CAM13-2014-03-21-20140321152608-20140321153204...</td>\n      <td>5</td>\n      <td>2</td>\n      <td>0</td>\n      <td>1</td>\n      <td>0</td>\n    </tr>\n    <tr>\n      <th>64075</th>\n      <td>CAM13-2014-03-28-20140328151115-20140328151855...</td>\n      <td>1</td>\n      <td>2</td>\n      <td>0</td>\n      <td>0</td>\n      <td>0</td>\n    </tr>\n    <tr>\n      <th>64078</th>\n      <td>CAM13-2014-04-24-20140424122202-20140424122750...</td>\n      <td>7</td>\n      <td>2</td>\n      <td>0</td>\n      <td>1</td>\n      <td>0</td>\n    </tr>\n    <tr>\n      <th>64079</th>\n      <td>CAM14-2014-02-14-20140214144152-20140214145256...</td>\n      <td>9</td>\n      <td>4</td>\n      <td>0</td>\n      <td>0</td>\n      <td>0</td>\n    </tr>\n    <tr>\n      <th>64082</th>\n      <td>CAM16-2014-03-27-20140327102842-20140327103442...</td>\n      <td>1</td>\n      <td>2</td>\n      <td>0</td>\n      <td>1</td>\n      <td>0</td>\n    </tr>\n  </tbody>\n</table>\n<p>26076 rows × 6 columns</p>\n</div>"
     },
     "execution_count": 13,
     "metadata": {},
     "output_type": "execute_result"
    }
   ],
   "source": [
    "all_values"
   ]
  },
  {
   "cell_type": "code",
   "execution_count": 14,
   "metadata": {
    "collapsed": false,
    "ExecuteTime": {
     "end_time": "2024-01-29T10:01:12.792809743Z",
     "start_time": "2024-01-29T10:01:12.749578965Z"
    }
   },
   "outputs": [],
   "source": [
    "df = all_values"
   ]
  },
  {
   "cell_type": "code",
   "execution_count": 15,
   "metadata": {
    "collapsed": false,
    "ExecuteTime": {
     "end_time": "2024-01-29T10:01:13.375192851Z",
     "start_time": "2024-01-29T10:01:13.362051223Z"
    }
   },
   "outputs": [
    {
     "name": "stderr",
     "output_type": "stream",
     "text": [
      "/tmp/ipykernel_23924/1270534262.py:1: SettingWithCopyWarning: \n",
      "A value is trying to be set on a copy of a slice from a DataFrame.\n",
      "Try using .loc[row_indexer,col_indexer] = value instead\n",
      "\n",
      "See the caveats in the documentation: https://pandas.pydata.org/pandas-docs/stable/user_guide/indexing.html#returning-a-view-versus-a-copy\n",
      "  df['upper'] = df['upper'].astype('category')\n",
      "/tmp/ipykernel_23924/1270534262.py:2: SettingWithCopyWarning: \n",
      "A value is trying to be set on a copy of a slice from a DataFrame.\n",
      "Try using .loc[row_indexer,col_indexer] = value instead\n",
      "\n",
      "See the caveats in the documentation: https://pandas.pydata.org/pandas-docs/stable/user_guide/indexing.html#returning-a-view-versus-a-copy\n",
      "  df['lower'] = df['lower'].astype('category')\n",
      "/tmp/ipykernel_23924/1270534262.py:3: SettingWithCopyWarning: \n",
      "A value is trying to be set on a copy of a slice from a DataFrame.\n",
      "Try using .loc[row_indexer,col_indexer] = value instead\n",
      "\n",
      "See the caveats in the documentation: https://pandas.pydata.org/pandas-docs/stable/user_guide/indexing.html#returning-a-view-versus-a-copy\n",
      "  df['gender'] = df['gender'].astype('category')\n"
     ]
    }
   ],
   "source": [
    "df['upper'] = df['upper'].astype('category')\n",
    "df['lower'] = df['lower'].astype('category')\n",
    "df['gender'] = df['gender'].astype('category')"
   ]
  },
  {
   "cell_type": "code",
   "execution_count": 16,
   "metadata": {
    "collapsed": false,
    "ExecuteTime": {
     "end_time": "2024-01-29T10:01:23.089385780Z",
     "start_time": "2024-01-29T10:01:23.067709341Z"
    }
   },
   "outputs": [],
   "source": [
    "one_hot_encoded_color = pd.get_dummies(df, columns=['upper', 'lower', 'gender']) #, dummy_na=True"
   ]
  },
  {
   "cell_type": "code",
   "execution_count": 17,
   "metadata": {
    "collapsed": false,
    "ExecuteTime": {
     "end_time": "2024-01-29T10:01:25.331626155Z",
     "start_time": "2024-01-29T10:01:25.306110991Z"
    }
   },
   "outputs": [
    {
     "data": {
      "text/plain": "                                                filename  bag  hat  upper_1  \\\n12293  CAM14-2014-02-17-20140217102131-20140217102719...    0    0    False   \n12295  CAM14-2014-02-17-20140217102131-20140217102719...    0    0     True   \n12296  CAM14-2014-02-17-20140217102131-20140217102719...    0    0     True   \n12297  CAM14-2014-02-17-20140217101543-20140217102131...    0    0    False   \n12299  CAM14-2014-02-17-20140217101543-20140217102131...    1    0     True   \n...                                                  ...  ...  ...      ...   \n64072  CAM13-2014-03-21-20140321152608-20140321153204...    1    0    False   \n64075  CAM13-2014-03-28-20140328151115-20140328151855...    0    0     True   \n64078  CAM13-2014-04-24-20140424122202-20140424122750...    1    0    False   \n64079  CAM14-2014-02-14-20140214144152-20140214145256...    0    0    False   \n64082  CAM16-2014-03-27-20140327102842-20140327103442...    1    0     True   \n\n       upper_2  upper_3  upper_4  upper_5  upper_6  upper_7  ...  lower_4  \\\n12293    False    False     True    False    False    False  ...    False   \n12295    False    False    False    False    False    False  ...    False   \n12296    False    False    False    False    False    False  ...    False   \n12297    False    False    False    False    False    False  ...    False   \n12299    False    False    False    False    False    False  ...    False   \n...        ...      ...      ...      ...      ...      ...  ...      ...   \n64072    False    False    False     True    False    False  ...    False   \n64075    False    False    False    False    False    False  ...    False   \n64078    False    False    False    False    False     True  ...    False   \n64079    False    False    False    False    False    False  ...     True   \n64082    False    False    False    False    False    False  ...    False   \n\n       lower_5  lower_6  lower_7  lower_8  lower_9  lower_10  lower_11  \\\n12293    False    False    False    False    False     False     False   \n12295    False    False    False    False    False     False     False   \n12296    False    False    False    False    False     False     False   \n12297    False    False    False    False    False     False     False   \n12299    False    False    False    False    False     False     False   \n...        ...      ...      ...      ...      ...       ...       ...   \n64072    False    False    False    False    False     False     False   \n64075    False    False    False    False    False     False     False   \n64078    False    False    False    False    False     False     False   \n64079    False    False    False    False    False     False     False   \n64082    False    False    False    False    False     False     False   \n\n       gender_0  gender_1  \n12293      True     False  \n12295      True     False  \n12296     False      True  \n12297     False      True  \n12299      True     False  \n...         ...       ...  \n64072      True     False  \n64075      True     False  \n64078      True     False  \n64079      True     False  \n64082      True     False  \n\n[26076 rows x 27 columns]",
      "text/html": "<div>\n<style scoped>\n    .dataframe tbody tr th:only-of-type {\n        vertical-align: middle;\n    }\n\n    .dataframe tbody tr th {\n        vertical-align: top;\n    }\n\n    .dataframe thead th {\n        text-align: right;\n    }\n</style>\n<table border=\"1\" class=\"dataframe\">\n  <thead>\n    <tr style=\"text-align: right;\">\n      <th></th>\n      <th>filename</th>\n      <th>bag</th>\n      <th>hat</th>\n      <th>upper_1</th>\n      <th>upper_2</th>\n      <th>upper_3</th>\n      <th>upper_4</th>\n      <th>upper_5</th>\n      <th>upper_6</th>\n      <th>upper_7</th>\n      <th>...</th>\n      <th>lower_4</th>\n      <th>lower_5</th>\n      <th>lower_6</th>\n      <th>lower_7</th>\n      <th>lower_8</th>\n      <th>lower_9</th>\n      <th>lower_10</th>\n      <th>lower_11</th>\n      <th>gender_0</th>\n      <th>gender_1</th>\n    </tr>\n  </thead>\n  <tbody>\n    <tr>\n      <th>12293</th>\n      <td>CAM14-2014-02-17-20140217102131-20140217102719...</td>\n      <td>0</td>\n      <td>0</td>\n      <td>False</td>\n      <td>False</td>\n      <td>False</td>\n      <td>True</td>\n      <td>False</td>\n      <td>False</td>\n      <td>False</td>\n      <td>...</td>\n      <td>False</td>\n      <td>False</td>\n      <td>False</td>\n      <td>False</td>\n      <td>False</td>\n      <td>False</td>\n      <td>False</td>\n      <td>False</td>\n      <td>True</td>\n      <td>False</td>\n    </tr>\n    <tr>\n      <th>12295</th>\n      <td>CAM14-2014-02-17-20140217102131-20140217102719...</td>\n      <td>0</td>\n      <td>0</td>\n      <td>True</td>\n      <td>False</td>\n      <td>False</td>\n      <td>False</td>\n      <td>False</td>\n      <td>False</td>\n      <td>False</td>\n      <td>...</td>\n      <td>False</td>\n      <td>False</td>\n      <td>False</td>\n      <td>False</td>\n      <td>False</td>\n      <td>False</td>\n      <td>False</td>\n      <td>False</td>\n      <td>True</td>\n      <td>False</td>\n    </tr>\n    <tr>\n      <th>12296</th>\n      <td>CAM14-2014-02-17-20140217102131-20140217102719...</td>\n      <td>0</td>\n      <td>0</td>\n      <td>True</td>\n      <td>False</td>\n      <td>False</td>\n      <td>False</td>\n      <td>False</td>\n      <td>False</td>\n      <td>False</td>\n      <td>...</td>\n      <td>False</td>\n      <td>False</td>\n      <td>False</td>\n      <td>False</td>\n      <td>False</td>\n      <td>False</td>\n      <td>False</td>\n      <td>False</td>\n      <td>False</td>\n      <td>True</td>\n    </tr>\n    <tr>\n      <th>12297</th>\n      <td>CAM14-2014-02-17-20140217101543-20140217102131...</td>\n      <td>0</td>\n      <td>0</td>\n      <td>False</td>\n      <td>False</td>\n      <td>False</td>\n      <td>False</td>\n      <td>False</td>\n      <td>False</td>\n      <td>False</td>\n      <td>...</td>\n      <td>False</td>\n      <td>False</td>\n      <td>False</td>\n      <td>False</td>\n      <td>False</td>\n      <td>False</td>\n      <td>False</td>\n      <td>False</td>\n      <td>False</td>\n      <td>True</td>\n    </tr>\n    <tr>\n      <th>12299</th>\n      <td>CAM14-2014-02-17-20140217101543-20140217102131...</td>\n      <td>1</td>\n      <td>0</td>\n      <td>True</td>\n      <td>False</td>\n      <td>False</td>\n      <td>False</td>\n      <td>False</td>\n      <td>False</td>\n      <td>False</td>\n      <td>...</td>\n      <td>False</td>\n      <td>False</td>\n      <td>False</td>\n      <td>False</td>\n      <td>False</td>\n      <td>False</td>\n      <td>False</td>\n      <td>False</td>\n      <td>True</td>\n      <td>False</td>\n    </tr>\n    <tr>\n      <th>...</th>\n      <td>...</td>\n      <td>...</td>\n      <td>...</td>\n      <td>...</td>\n      <td>...</td>\n      <td>...</td>\n      <td>...</td>\n      <td>...</td>\n      <td>...</td>\n      <td>...</td>\n      <td>...</td>\n      <td>...</td>\n      <td>...</td>\n      <td>...</td>\n      <td>...</td>\n      <td>...</td>\n      <td>...</td>\n      <td>...</td>\n      <td>...</td>\n      <td>...</td>\n      <td>...</td>\n    </tr>\n    <tr>\n      <th>64072</th>\n      <td>CAM13-2014-03-21-20140321152608-20140321153204...</td>\n      <td>1</td>\n      <td>0</td>\n      <td>False</td>\n      <td>False</td>\n      <td>False</td>\n      <td>False</td>\n      <td>True</td>\n      <td>False</td>\n      <td>False</td>\n      <td>...</td>\n      <td>False</td>\n      <td>False</td>\n      <td>False</td>\n      <td>False</td>\n      <td>False</td>\n      <td>False</td>\n      <td>False</td>\n      <td>False</td>\n      <td>True</td>\n      <td>False</td>\n    </tr>\n    <tr>\n      <th>64075</th>\n      <td>CAM13-2014-03-28-20140328151115-20140328151855...</td>\n      <td>0</td>\n      <td>0</td>\n      <td>True</td>\n      <td>False</td>\n      <td>False</td>\n      <td>False</td>\n      <td>False</td>\n      <td>False</td>\n      <td>False</td>\n      <td>...</td>\n      <td>False</td>\n      <td>False</td>\n      <td>False</td>\n      <td>False</td>\n      <td>False</td>\n      <td>False</td>\n      <td>False</td>\n      <td>False</td>\n      <td>True</td>\n      <td>False</td>\n    </tr>\n    <tr>\n      <th>64078</th>\n      <td>CAM13-2014-04-24-20140424122202-20140424122750...</td>\n      <td>1</td>\n      <td>0</td>\n      <td>False</td>\n      <td>False</td>\n      <td>False</td>\n      <td>False</td>\n      <td>False</td>\n      <td>False</td>\n      <td>True</td>\n      <td>...</td>\n      <td>False</td>\n      <td>False</td>\n      <td>False</td>\n      <td>False</td>\n      <td>False</td>\n      <td>False</td>\n      <td>False</td>\n      <td>False</td>\n      <td>True</td>\n      <td>False</td>\n    </tr>\n    <tr>\n      <th>64079</th>\n      <td>CAM14-2014-02-14-20140214144152-20140214145256...</td>\n      <td>0</td>\n      <td>0</td>\n      <td>False</td>\n      <td>False</td>\n      <td>False</td>\n      <td>False</td>\n      <td>False</td>\n      <td>False</td>\n      <td>False</td>\n      <td>...</td>\n      <td>True</td>\n      <td>False</td>\n      <td>False</td>\n      <td>False</td>\n      <td>False</td>\n      <td>False</td>\n      <td>False</td>\n      <td>False</td>\n      <td>True</td>\n      <td>False</td>\n    </tr>\n    <tr>\n      <th>64082</th>\n      <td>CAM16-2014-03-27-20140327102842-20140327103442...</td>\n      <td>1</td>\n      <td>0</td>\n      <td>True</td>\n      <td>False</td>\n      <td>False</td>\n      <td>False</td>\n      <td>False</td>\n      <td>False</td>\n      <td>False</td>\n      <td>...</td>\n      <td>False</td>\n      <td>False</td>\n      <td>False</td>\n      <td>False</td>\n      <td>False</td>\n      <td>False</td>\n      <td>False</td>\n      <td>False</td>\n      <td>True</td>\n      <td>False</td>\n    </tr>\n  </tbody>\n</table>\n<p>26076 rows × 27 columns</p>\n</div>"
     },
     "execution_count": 17,
     "metadata": {},
     "output_type": "execute_result"
    }
   ],
   "source": [
    "one_hot_encoded_color"
   ]
  },
  {
   "cell_type": "code",
   "execution_count": null,
   "metadata": {
    "collapsed": false
   },
   "outputs": [],
   "source": [
    "    "
   ]
  },
  {
   "cell_type": "code",
   "execution_count": null,
   "metadata": {
    "collapsed": false
   },
   "outputs": [],
   "source": [
    "df_copy = one_hot_encoded_color.copy()"
   ]
  },
  {
   "cell_type": "code",
   "execution_count": null,
   "metadata": {
    "collapsed": false
   },
   "outputs": [],
   "source": [
    "df_copy.head()"
   ]
  },
  {
   "cell_type": "code",
   "execution_count": null,
   "metadata": {
    "collapsed": false
   },
   "outputs": [],
   "source": [
    "df_copy.info()"
   ]
  },
  {
   "cell_type": "code",
   "execution_count": null,
   "metadata": {
    "collapsed": false
   },
   "outputs": [],
   "source": [
    "df_nan_upp = df_copy.loc[df_copy['upper_-1'] == True]\n",
    "df_nan_upp.index\n"
   ]
  },
  {
   "cell_type": "code",
   "execution_count": null,
   "metadata": {
    "collapsed": false
   },
   "outputs": [],
   "source": [
    "df_nan_low = df_copy.loc[df_copy['lower_-1'] == True]"
   ]
  },
  {
   "cell_type": "code",
   "execution_count": null,
   "metadata": {
    "collapsed": false
   },
   "outputs": [],
   "source": [
    "df_nan_gender = df_copy.loc[df_copy['gender_-1'] == True]"
   ]
  },
  {
   "cell_type": "code",
   "execution_count": null,
   "metadata": {
    "collapsed": false
   },
   "outputs": [],
   "source": [
    "df_copy.loc[df_nan_gender.index, 'gender_0':'gender_1'] = -1"
   ]
  },
  {
   "cell_type": "code",
   "execution_count": null,
   "metadata": {
    "collapsed": false
   },
   "outputs": [],
   "source": [
    "df_copy.loc[df_nan_upp.index, 'upper_1':'upper_11'] = -1\n",
    "df_copy.loc[df_nan_low.index, 'lower_1':'lower_11'] = -1\n",
    "\n",
    "\n",
    "df_copy"
   ]
  },
  {
   "cell_type": "code",
   "execution_count": null,
   "metadata": {
    "collapsed": false
   },
   "outputs": [],
   "source": [
    "columns = [\"gender\", \"bag\", \"hat\"]\n",
    "for i in range(1, 12):\n",
    "    columns.append(\"upper_\" + str(i)) \n",
    "\n",
    "for i in range(1,12):\n",
    "        columns.append(\"lower_\" + str(i))   \n",
    "\n",
    "len(columns)"
   ]
  },
  {
   "cell_type": "code",
   "execution_count": null,
   "metadata": {
    "collapsed": false
   },
   "outputs": [],
   "source": [
    "\n",
    "#df_copy.loc[df_nan.index, ['upper_1':'upper_11']] = df_copy.loc[df_copy['upper_nan'] == True]"
   ]
  },
  {
   "cell_type": "code",
   "execution_count": null,
   "metadata": {
    "collapsed": false
   },
   "outputs": [],
   "source": [
    "df_copy.replace(True, 1, inplace=True)\n",
    "df_copy.replace(False, 0, inplace=True)\n",
    "df_copy.replace(-1, 0, inplace=True)"
   ]
  },
  {
   "cell_type": "code",
   "execution_count": null,
   "metadata": {
    "collapsed": false
   },
   "outputs": [],
   "source": [
    "df_copy"
   ]
  },
  {
   "cell_type": "code",
   "execution_count": null,
   "metadata": {
    "collapsed": false
   },
   "outputs": [],
   "source": [
    "one_hot_encoded_color.replace(True, 1, inplace=True)\n",
    "one_hot_encoded_color.replace(False, 0, inplace=True)\n",
    "one_hot_encoded_color.replace(-1, 0, inplace=True)"
   ]
  },
  {
   "cell_type": "markdown",
   "metadata": {
    "collapsed": false
   },
   "source": []
  },
  {
   "cell_type": "code",
   "execution_count": null,
   "metadata": {
    "collapsed": false
   },
   "outputs": [],
   "source": [
    "one_hot_encoded_color"
   ]
  },
  {
   "cell_type": "code",
   "execution_count": null,
   "metadata": {
    "collapsed": false
   },
   "outputs": [],
   "source": [
    "df_copy.drop(columns=['upper_-1', 'lower_-1', 'gender_-1'], inplace=True)"
   ]
  },
  {
   "cell_type": "code",
   "execution_count": null,
   "metadata": {
    "collapsed": false
   },
   "outputs": [],
   "source": [
    "df_copy"
   ]
  },
  {
   "cell_type": "code",
   "execution_count": null,
   "metadata": {
    "collapsed": false
   },
   "outputs": [],
   "source": [
    "import pandas as pd\n",
    "import numpy as np\n",
    "import scipy"
   ]
  },
  {
   "cell_type": "code",
   "execution_count": null,
   "metadata": {
    "collapsed": false
   },
   "outputs": [],
   "source": [
    "def nan_index(df):\n",
    "        df_nan_upp = df.loc[df['upper_-1'] == True]\n",
    "        \n",
    "        df_nan_low = df.loc[df['lower_-1'] == True]\n",
    "        df.loc[df_nan_upp.index, 'upper_1':'upper_11'] = -1\n",
    "        df.loc[df_nan_low.index, 'lower_1':'lower_11'] = -1\n",
    "        df.drop(columns=['upper_-1', 'lower_-1'], inplace=True)\n",
    "        \n",
    "        return df\n",
    "\n",
    "def conversion(filename):\n",
    "        df = pd.read_csv(filename, header=None, names=['filename', 'upper', 'lower', 'gender', 'bag', 'hat'])\n",
    "        #print(len(df.index))\n",
    "        #df.replace(-1, pd.NA, inplace=True)\n",
    "        #print(\"valori nulli\", df.isnull().sum())\n",
    "        df['upper'] = df['upper'].astype('category')\n",
    "        df['lower'] = df['lower'].astype('category')\n",
    "        \n",
    "        one_hot_encoded_color = pd.get_dummies(df, columns=['upper', 'lower'])\n",
    "        print(one_hot_encoded_color.head())\n",
    "        one_hot_encoded_color = nan_index(one_hot_encoded_color)\n",
    "        print(one_hot_encoded_color.head())\n",
    "        one_hot_encoded_color.replace(True, 1, inplace=True)\n",
    "        one_hot_encoded_color.replace(False, 0, inplace=True)\n",
    "        \n",
    "        return one_hot_encoded_color\n",
    "\n",
    "def create_file_mat(dataframe):\n",
    "        color = [\"black\", \"blue\", \"brown\", \"gray\", \"green\", \"orange\", \"pink\", \"purple\", \"red\", \"white\", \"yellow\"]\n",
    "\n",
    "        up_color = [\"up\" + c for c in color]\n",
    "        lower_color = [\"lo\" + c for c in color]\n",
    "        attributes = [\"gender\", \"bag\", \"hat\"] + up_color + lower_color\n",
    "\n",
    "        attributes = pd.DataFrame(attributes)\n",
    "        print(\"attributes\",attributes)\n",
    "        attributes = np.array(attributes[0]).reshape(25,1)\n",
    "        \n",
    "        train_label = np.array(dataframe[columns])\n",
    "        images_name = np.array(dataframe['filename']).reshape(1,93082)\n",
    "        images_name = images_name.transpose()\n",
    "        \n",
    "        return attributes, train_label, images_name\n",
    "\n",
    "columns = [\"gender\", \"bag\", \"hat\"]\n",
    "for i in range(1, 12):\n",
    "        columns.append(\"upper_\" + str(i))\n",
    "\n",
    "for i in range(1,12):\n",
    "        columns.append(\"lower_\" + str(i))\n",
    "        \n",
    "df_train = conversion(\"training_set.csv\")\n",
    "#attributes_train, train_label, images_name_train = create_file_mat(df_train)\n",
    "\n",
    "df_validation = conversion(\"validation_set.csv\")\n",
    "\n",
    "#attributes_val, val_label, images_name_val = create_file_mat(df_validation)"
   ]
  },
  {
   "cell_type": "code",
   "execution_count": null,
   "metadata": {
    "collapsed": false
   },
   "outputs": [],
   "source": [
    "data = {'attributes': attributes,\n",
    "        'test_images_name': [],\n",
    "        'test_label': [[0, 0, 0],[1, 1, 1], [2, 2, 2]],\n",
    "        'train_images_name': images_name,\n",
    "        'train_label': train_label,\n",
    "        'val_images_name': [],\n",
    "        'val_label': [[]]\n",
    "        }"
   ]
  },
  {
   "cell_type": "code",
   "execution_count": null,
   "metadata": {
    "collapsed": false
   },
   "outputs": [],
   "source": [
    "color = [\"black\", \"blue\", \"brown\", \"gray\", \"green\", \"orange\", \"pink\", \"purple\", \"red\", \"white\", \"yellow\"]\n",
    "\n",
    "\n",
    "up_color = [\"up\" + c for c in color]\n",
    "lower_color = [\"lo\" + c for c in color]\n",
    "attributes = [\"gender\", \"bag\", \"hat\"] + up_color + lower_color \n",
    "#attributes = [[element] for element in attributes]\n",
    "\n",
    "attributes = pd.DataFrame(attributes)\n",
    "print(\"attributes\",attributes)\n",
    "#print(color)\n",
    "attributes = np.array(attributes[0]).reshape(25,1)\n",
    "\n",
    "#print(attributes)\n",
    "\n",
    "#print(\"4 columns\", df_train[[1, 2, 3, 4, 5]])\n",
    "columns_feature = columns\n",
    "train_label = np.array(one_hot_encoded_color[columns])\n",
    "\n",
    "#attributes = attributes.reshape(1,25)\n",
    "print(attributes.shape)\n",
    "print(attributes)\n",
    "print(train_label.shape)\n"
   ]
  },
  {
   "cell_type": "code",
   "execution_count": null,
   "metadata": {
    "collapsed": false
   },
   "outputs": [],
   "source": [
    "images_name = np.array(one_hot_encoded_color['filename']).reshape(1,93082)\n",
    "images_name = images_name.transpose()\n",
    "#images_name = images_name\n",
    "print(images_name.shape)\n",
    "print(images_name)\n",
    "\n",
    "data = {'attributes': attributes,\n",
    "        'test_images_name': [],\n",
    "        'test_label': [[0, 0, 0],[1, 1, 1], [2, 2, 2]],\n",
    "        'train_images_name': images_name,\n",
    "        'train_label': train_label,\n",
    "        'val_images_name': [],\n",
    "        'val_label': [[]]\n",
    "        }"
   ]
  },
  {
   "cell_type": "code",
   "execution_count": null,
   "metadata": {
    "collapsed": false
   },
   "outputs": [],
   "source": [
    "data"
   ]
  },
  {
   "cell_type": "code",
   "execution_count": null,
   "metadata": {
    "collapsed": false
   },
   "outputs": [],
   "source": [
    "file_path = 'example.mat'\n",
    "\n",
    "# Save the data to a .mat file\n",
    "scipy.io.savemat(file_path, data)"
   ]
  },
  {
   "cell_type": "code",
   "execution_count": null,
   "metadata": {
    "collapsed": false
   },
   "outputs": [],
   "source": []
  }
 ],
 "metadata": {
  "kernelspec": {
   "display_name": "Python 3 (ipykernel)",
   "language": "python",
   "name": "python3"
  },
  "language_info": {
   "codemirror_mode": {
    "name": "ipython",
    "version": 3
   },
   "file_extension": ".py",
   "mimetype": "text/x-python",
   "name": "python",
   "nbconvert_exporter": "python",
   "pygments_lexer": "ipython3",
   "version": "3.8.18"
  }
 },
 "nbformat": 4,
 "nbformat_minor": 2
}
