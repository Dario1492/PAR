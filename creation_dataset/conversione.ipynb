{
 "cells": [
  {
   "cell_type": "code",
   "outputs": [],
   "source": [
    "import pandas as pd\n",
    "import numpy as np\n",
    "import scipy\n"
   ],
   "metadata": {
    "ExecuteTime": {
     "end_time": "2024-01-26T16:07:53.205910014Z",
     "start_time": "2024-01-26T16:07:52.980981753Z"
    }
   },
   "execution_count": 2
  },
  {
   "cell_type": "code",
   "outputs": [],
   "source": [
    "df = pd.read_csv('validation_set.csv', header=None, names=['filename', 'upper', 'lower', 'gender', 'bag', 'hat'])"
   ],
   "metadata": {
    "collapsed": false,
    "ExecuteTime": {
     "end_time": "2024-01-26T16:07:53.693660241Z",
     "start_time": "2024-01-26T16:07:53.668500940Z"
    }
   },
   "execution_count": 3
  },
  {
   "cell_type": "code",
   "outputs": [
    {
     "data": {
      "text/plain": "12162"
     },
     "execution_count": 4,
     "metadata": {},
     "output_type": "execute_result"
    }
   ],
   "source": [
    "len(df.index)"
   ],
   "metadata": {
    "collapsed": false,
    "ExecuteTime": {
     "end_time": "2024-01-26T16:07:54.720561504Z",
     "start_time": "2024-01-26T16:07:54.714390151Z"
    }
   },
   "execution_count": 4
  },
  {
   "cell_type": "code",
   "outputs": [],
   "source": [
    "df.replace(-1, pd.NA, inplace=True)"
   ],
   "metadata": {
    "collapsed": false,
    "ExecuteTime": {
     "end_time": "2024-01-26T16:07:56.590746440Z",
     "start_time": "2024-01-26T16:07:56.580465226Z"
    }
   },
   "execution_count": 5
  },
  {
   "cell_type": "code",
   "outputs": [
    {
     "data": {
      "text/plain": "                                                filename  upper  lower  \\\n0                                MIT_00684_male_fore.jpg     10      2   \n1                                TownCentre_126_2415.jpg      1      2   \n2                                 TownCentre_70_1201.jpg      1      2   \n3                                TownCentre_126_2469.jpg      1      2   \n4                                TownCentre_115_2029.jpg      8      2   \n...                                                  ...    ...    ...   \n12157  CAM14-2014-02-17-20140217102131-20140217102719...      1      2   \n12158  CAM14-2014-02-17-20140217102131-20140217102719...      1      1   \n12159  CAM14-2014-02-17-20140217102131-20140217102719...      1      1   \n12160  CAM14-2014-02-17-20140217102131-20140217102719...     11      2   \n12161  CAM14-2014-02-17-20140217102131-20140217102719...      2      2   \n\n       gender  bag  hat  \n0           0    0    0  \n1           0    1    1  \n2           0    1    1  \n3           0    1    1  \n4           1    1    1  \n...       ...  ...  ...  \n12157       0    0    0  \n12158       0    0    0  \n12159       0    0    0  \n12160       0    1    0  \n12161       1    0    0  \n\n[12162 rows x 6 columns]",
      "text/html": "<div>\n<style scoped>\n    .dataframe tbody tr th:only-of-type {\n        vertical-align: middle;\n    }\n\n    .dataframe tbody tr th {\n        vertical-align: top;\n    }\n\n    .dataframe thead th {\n        text-align: right;\n    }\n</style>\n<table border=\"1\" class=\"dataframe\">\n  <thead>\n    <tr style=\"text-align: right;\">\n      <th></th>\n      <th>filename</th>\n      <th>upper</th>\n      <th>lower</th>\n      <th>gender</th>\n      <th>bag</th>\n      <th>hat</th>\n    </tr>\n  </thead>\n  <tbody>\n    <tr>\n      <th>0</th>\n      <td>MIT_00684_male_fore.jpg</td>\n      <td>10</td>\n      <td>2</td>\n      <td>0</td>\n      <td>0</td>\n      <td>0</td>\n    </tr>\n    <tr>\n      <th>1</th>\n      <td>TownCentre_126_2415.jpg</td>\n      <td>1</td>\n      <td>2</td>\n      <td>0</td>\n      <td>1</td>\n      <td>1</td>\n    </tr>\n    <tr>\n      <th>2</th>\n      <td>TownCentre_70_1201.jpg</td>\n      <td>1</td>\n      <td>2</td>\n      <td>0</td>\n      <td>1</td>\n      <td>1</td>\n    </tr>\n    <tr>\n      <th>3</th>\n      <td>TownCentre_126_2469.jpg</td>\n      <td>1</td>\n      <td>2</td>\n      <td>0</td>\n      <td>1</td>\n      <td>1</td>\n    </tr>\n    <tr>\n      <th>4</th>\n      <td>TownCentre_115_2029.jpg</td>\n      <td>8</td>\n      <td>2</td>\n      <td>1</td>\n      <td>1</td>\n      <td>1</td>\n    </tr>\n    <tr>\n      <th>...</th>\n      <td>...</td>\n      <td>...</td>\n      <td>...</td>\n      <td>...</td>\n      <td>...</td>\n      <td>...</td>\n    </tr>\n    <tr>\n      <th>12157</th>\n      <td>CAM14-2014-02-17-20140217102131-20140217102719...</td>\n      <td>1</td>\n      <td>2</td>\n      <td>0</td>\n      <td>0</td>\n      <td>0</td>\n    </tr>\n    <tr>\n      <th>12158</th>\n      <td>CAM14-2014-02-17-20140217102131-20140217102719...</td>\n      <td>1</td>\n      <td>1</td>\n      <td>0</td>\n      <td>0</td>\n      <td>0</td>\n    </tr>\n    <tr>\n      <th>12159</th>\n      <td>CAM14-2014-02-17-20140217102131-20140217102719...</td>\n      <td>1</td>\n      <td>1</td>\n      <td>0</td>\n      <td>0</td>\n      <td>0</td>\n    </tr>\n    <tr>\n      <th>12160</th>\n      <td>CAM14-2014-02-17-20140217102131-20140217102719...</td>\n      <td>11</td>\n      <td>2</td>\n      <td>0</td>\n      <td>1</td>\n      <td>0</td>\n    </tr>\n    <tr>\n      <th>12161</th>\n      <td>CAM14-2014-02-17-20140217102131-20140217102719...</td>\n      <td>2</td>\n      <td>2</td>\n      <td>1</td>\n      <td>0</td>\n      <td>0</td>\n    </tr>\n  </tbody>\n</table>\n<p>12162 rows × 6 columns</p>\n</div>"
     },
     "execution_count": 6,
     "metadata": {},
     "output_type": "execute_result"
    }
   ],
   "source": [
    "df"
   ],
   "metadata": {
    "collapsed": false,
    "ExecuteTime": {
     "end_time": "2024-01-26T16:07:58.450277947Z",
     "start_time": "2024-01-26T16:07:58.440135119Z"
    }
   },
   "execution_count": 6
  },
  {
   "cell_type": "code",
   "execution_count": 7,
   "metadata": {
    "ExecuteTime": {
     "end_time": "2024-01-26T16:07:59.231745777Z",
     "start_time": "2024-01-26T16:07:59.223722274Z"
    }
   },
   "outputs": [
    {
     "name": "stdout",
     "output_type": "stream",
     "text": [
      "values null filename    0\n",
      "upper       0\n",
      "lower       0\n",
      "gender      0\n",
      "bag         0\n",
      "hat         0\n",
      "dtype: int64\n"
     ]
    }
   ],
   "source": [
    "print(\"values null\", df.isnull().sum())"
   ]
  },
  {
   "cell_type": "code",
   "outputs": [],
   "source": [
    "df.replace(pd.NA, -1, inplace=True)"
   ],
   "metadata": {
    "collapsed": false
   },
   "execution_count": null
  },
  {
   "cell_type": "code",
   "outputs": [],
   "source": [
    "df['upper'] = df['upper'].astype('category')\n",
    "df['lower'] = df['lower'].astype('category')"
   ],
   "metadata": {
    "collapsed": false
   },
   "execution_count": null
  },
  {
   "cell_type": "code",
   "outputs": [],
   "source": [
    "one_hot_encoded_color = pd.get_dummies(df, columns=['upper', 'lower']) #, dummy_na=True"
   ],
   "metadata": {
    "collapsed": false
   },
   "execution_count": null
  },
  {
   "cell_type": "code",
   "outputs": [],
   "source": [
    "one_hot_encoded_color"
   ],
   "metadata": {
    "collapsed": false
   },
   "execution_count": null
  },
  {
   "cell_type": "code",
   "outputs": [],
   "source": [
    "    "
   ],
   "metadata": {
    "collapsed": false
   },
   "execution_count": null
  },
  {
   "cell_type": "code",
   "outputs": [],
   "source": [
    "df_copy = one_hot_encoded_color.copy()"
   ],
   "metadata": {
    "collapsed": false
   },
   "execution_count": null
  },
  {
   "cell_type": "code",
   "outputs": [],
   "source": [
    "df_copy.head()"
   ],
   "metadata": {
    "collapsed": false
   },
   "execution_count": null
  },
  {
   "cell_type": "code",
   "outputs": [],
   "source": [
    "df_copy.info()"
   ],
   "metadata": {
    "collapsed": false
   },
   "execution_count": null
  },
  {
   "cell_type": "code",
   "outputs": [],
   "source": [
    "df_nan_upp = df_copy.loc[df_copy['upper_-1'] == True]\n",
    "df_nan_upp.index\n"
   ],
   "metadata": {
    "collapsed": false
   },
   "execution_count": null
  },
  {
   "cell_type": "code",
   "outputs": [],
   "source": [
    "df_nan_low = df_copy.loc[df_copy['lower_-1'] == True]"
   ],
   "metadata": {
    "collapsed": false
   },
   "execution_count": null
  },
  {
   "cell_type": "code",
   "outputs": [],
   "source": [
    "df_copy.loc[df_nan_upp.index, 'upper_1':'upper_11'] = -1\n",
    "df_copy.loc[df_nan_low.index, 'lower_1':'lower_11'] = -1\n",
    "\n",
    "df_copy"
   ],
   "metadata": {
    "collapsed": false
   },
   "execution_count": null
  },
  {
   "cell_type": "code",
   "outputs": [],
   "source": [
    "columns = [\"gender\", \"bag\", \"hat\"]\n",
    "for i in range(1, 12):\n",
    "    columns.append(\"upper_\" + str(i)) \n",
    "\n",
    "for i in range(1,12):\n",
    "        columns.append(\"lower_\" + str(i))   \n",
    "\n",
    "len(columns)"
   ],
   "metadata": {
    "collapsed": false
   },
   "execution_count": null
  },
  {
   "cell_type": "code",
   "outputs": [],
   "source": [
    "\n",
    "#df_copy.loc[df_nan.index, ['upper_1':'upper_11']] = df_copy.loc[df_copy['upper_nan'] == True]"
   ],
   "metadata": {
    "collapsed": false
   },
   "execution_count": null
  },
  {
   "cell_type": "code",
   "outputs": [],
   "source": [],
   "metadata": {
    "collapsed": false
   }
  },
  {
   "cell_type": "code",
   "outputs": [],
   "source": [
    "df_copy"
   ],
   "metadata": {
    "collapsed": false
   },
   "execution_count": null
  },
  {
   "cell_type": "code",
   "outputs": [],
   "source": [
    "one_hot_encoded_color.replace(True, 1, inplace=True)\n",
    "one_hot_encoded_color.replace(False, 0, inplace=True)"
   ],
   "metadata": {
    "collapsed": false
   },
   "execution_count": null
  },
  {
   "cell_type": "markdown",
   "source": [],
   "metadata": {
    "collapsed": false
   }
  },
  {
   "cell_type": "code",
   "outputs": [],
   "source": [
    "one_hot_encoded_color"
   ],
   "metadata": {
    "collapsed": false
   },
   "execution_count": null
  },
  {
   "cell_type": "code",
   "outputs": [],
   "source": [
    "import pandas as pd\n",
    "import numpy as np\n",
    "import scipy"
   ],
   "metadata": {
    "collapsed": false
   },
   "execution_count": null
  },
  {
   "cell_type": "code",
   "outputs": [],
   "source": [
    "def nan_index(df):\n",
    "        df_nan_upp = df.loc[df['upper_-1'] == True]\n",
    "        \n",
    "        df_nan_low = df.loc[df['lower_-1'] == True]\n",
    "        df.loc[df_nan_upp.index, 'upper_1':'upper_11'] = -1\n",
    "        df.loc[df_nan_low.index, 'lower_1':'lower_11'] = -1\n",
    "        df.drop(columns=['upper_-1', 'lower_-1'], inplace=True)\n",
    "        \n",
    "        return df\n",
    "\n",
    "def conversion(filename):\n",
    "        df = pd.read_csv(filename, header=None, names=['filename', 'upper', 'lower', 'gender', 'bag', 'hat'])\n",
    "        #print(len(df.index))\n",
    "        #df.replace(-1, pd.NA, inplace=True)\n",
    "        #print(\"valori nulli\", df.isnull().sum())\n",
    "        df['upper'] = df['upper'].astype('category')\n",
    "        df['lower'] = df['lower'].astype('category')\n",
    "        \n",
    "        one_hot_encoded_color = pd.get_dummies(df, columns=['upper', 'lower'])\n",
    "        print(one_hot_encoded_color.head())\n",
    "        one_hot_encoded_color = nan_index(one_hot_encoded_color)\n",
    "        print(one_hot_encoded_color.head())\n",
    "        one_hot_encoded_color.replace(True, 1, inplace=True)\n",
    "        one_hot_encoded_color.replace(False, 0, inplace=True)\n",
    "        \n",
    "        return one_hot_encoded_color\n",
    "\n",
    "def create_file_mat(dataframe):\n",
    "        color = [\"black\", \"blue\", \"brown\", \"gray\", \"green\", \"orange\", \"pink\", \"purple\", \"red\", \"white\", \"yellow\"]\n",
    "\n",
    "        up_color = [\"up\" + c for c in color]\n",
    "        lower_color = [\"lo\" + c for c in color]\n",
    "        attributes = [\"gender\", \"bag\", \"hat\"] + up_color + lower_color\n",
    "\n",
    "        attributes = pd.DataFrame(attributes)\n",
    "        print(\"attributes\",attributes)\n",
    "        attributes = np.array(attributes[0]).reshape(25,1)\n",
    "        \n",
    "        train_label = np.array(dataframe[columns])\n",
    "        images_name = np.array(dataframe['filename']).reshape(1,93082)\n",
    "        images_name = images_name.transpose()\n",
    "        \n",
    "        return attributes, train_label, images_name\n",
    "\n",
    "columns = [\"gender\", \"bag\", \"hat\"]\n",
    "for i in range(1, 12):\n",
    "        columns.append(\"upper_\" + str(i))\n",
    "\n",
    "for i in range(1,12):\n",
    "        columns.append(\"lower_\" + str(i))\n",
    "        \n",
    "df_train = conversion(\"training_set.csv\")\n",
    "#attributes_train, train_label, images_name_train = create_file_mat(df_train)\n",
    "\n",
    "df_validation = conversion(\"validation_set.csv\")\n",
    "\n",
    "#attributes_val, val_label, images_name_val = create_file_mat(df_validation)"
   ],
   "metadata": {
    "collapsed": false
   },
   "execution_count": null
  },
  {
   "cell_type": "code",
   "outputs": [],
   "source": [
    "data = {'attributes': attributes,\n",
    "        'test_images_name': [],\n",
    "        'test_label': [[0, 0, 0],[1, 1, 1], [2, 2, 2]],\n",
    "        'train_images_name': images_name,\n",
    "        'train_label': train_label,\n",
    "        'val_images_name': [],\n",
    "        'val_label': [[]]\n",
    "        }"
   ],
   "metadata": {
    "collapsed": false
   }
  },
  {
   "cell_type": "code",
   "outputs": [],
   "source": [
    "color = [\"black\", \"blue\", \"brown\", \"gray\", \"green\", \"orange\", \"pink\", \"purple\", \"red\", \"white\", \"yellow\"]\n",
    "\n",
    "\n",
    "up_color = [\"up\" + c for c in color]\n",
    "lower_color = [\"lo\" + c for c in color]\n",
    "attributes = [\"gender\", \"bag\", \"hat\"] + up_color + lower_color \n",
    "#attributes = [[element] for element in attributes]\n",
    "\n",
    "attributes = pd.DataFrame(attributes)\n",
    "print(\"attributes\",attributes)\n",
    "#print(color)\n",
    "attributes = np.array(attributes[0]).reshape(25,1)\n",
    "\n",
    "#print(attributes)\n",
    "\n",
    "#print(\"4 columns\", df_train[[1, 2, 3, 4, 5]])\n",
    "columns_feature = columns\n",
    "train_label = np.array(one_hot_encoded_color[columns])\n",
    "\n",
    "#attributes = attributes.reshape(1,25)\n",
    "print(attributes.shape)\n",
    "print(attributes)\n",
    "print(train_label.shape)\n"
   ],
   "metadata": {
    "collapsed": false
   },
   "execution_count": null
  },
  {
   "cell_type": "code",
   "outputs": [],
   "source": [
    "images_name = np.array(one_hot_encoded_color['filename']).reshape(1,93082)\n",
    "images_name = images_name.transpose()\n",
    "#images_name = images_name\n",
    "print(images_name.shape)\n",
    "print(images_name)\n",
    "\n",
    "data = {'attributes': attributes,\n",
    "        'test_images_name': [],\n",
    "        'test_label': [[0, 0, 0],[1, 1, 1], [2, 2, 2]],\n",
    "        'train_images_name': images_name,\n",
    "        'train_label': train_label,\n",
    "        'val_images_name': [],\n",
    "        'val_label': [[]]\n",
    "        }"
   ],
   "metadata": {
    "collapsed": false
   },
   "execution_count": null
  },
  {
   "cell_type": "code",
   "outputs": [],
   "source": [
    "data"
   ],
   "metadata": {
    "collapsed": false
   },
   "execution_count": null
  },
  {
   "cell_type": "code",
   "outputs": [],
   "source": [
    "file_path = 'example.mat'\n",
    "\n",
    "# Save the data to a .mat file\n",
    "scipy.io.savemat(file_path, data)"
   ],
   "metadata": {
    "collapsed": false
   },
   "execution_count": null
  },
  {
   "cell_type": "code",
   "outputs": [],
   "source": [],
   "metadata": {
    "collapsed": false
   }
  }
 ],
 "metadata": {
  "language_info": {
   "name": "python"
  },
  "kernelspec": {
   "name": "python3",
   "language": "python",
   "display_name": "Python 3 (ipykernel)"
  }
 },
 "nbformat": 4,
 "nbformat_minor": 2
}
